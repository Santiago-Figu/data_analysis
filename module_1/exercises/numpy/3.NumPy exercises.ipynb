{
 "cells": [
  {
   "cell_type": "markdown",
   "metadata": {},
   "source": [
    "![rmotr](https://user-images.githubusercontent.com/7065401/52071918-bda15380-2562-11e9-828c-7f95297e4a82.png)\n",
    "<hr style=\"margin-bottom: 40px;\">\n",
    "\n",
    "# NumPy exercises\n"
   ]
  },
  {
   "cell_type": "code",
   "execution_count": 5,
   "metadata": {},
   "outputs": [
    {
     "name": "stdout",
     "output_type": "stream",
     "text": [
      "2.2.5\n"
     ]
    }
   ],
   "source": [
    "# Import the numpy package under the name np\n",
    "import numpy as np\n",
    "\n",
    "# Print the numpy version and the configuration\n",
    "print(np.__version__)"
   ]
  },
  {
   "cell_type": "markdown",
   "metadata": {},
   "source": [
    "![purple-divider](https://user-images.githubusercontent.com/7065401/52071927-c1cd7100-2562-11e9-908a-dde91ba14e59.png)\n",
    "\n",
    "## Array creation"
   ]
  },
  {
   "cell_type": "markdown",
   "metadata": {},
   "source": [
    "### Create a numpy array of size 10, filled with zeros."
   ]
  },
  {
   "cell_type": "code",
   "execution_count": 2,
   "metadata": {},
   "outputs": [
    {
     "name": "stdout",
     "output_type": "stream",
     "text": [
      "array_1: [0 0 0 0 0 0 0 0 0 0]\n",
      "array_2: [0 0 0 0 0 0 0 0 0 0]\n"
     ]
    }
   ],
   "source": [
    "# your code goes here\n",
    "\n",
    "print(f\"array_1: {np.zeros(10, dtype=int)}\")\n",
    "print(f\"array_2: {np.array([0] * 10)}\")"
   ]
  },
  {
   "cell_type": "markdown",
   "metadata": {},
   "source": [
    "![green-divider](https://user-images.githubusercontent.com/7065401/52071924-c003ad80-2562-11e9-8297-1c6595f8a7ff.png)\n",
    "\n",
    "### Create a numpy array with values ranging from 10 to 49"
   ]
  },
  {
   "cell_type": "code",
   "execution_count": 3,
   "metadata": {},
   "outputs": [
    {
     "name": "stdout",
     "output_type": "stream",
     "text": [
      "array_1: [10 11 12 13 14 15 16 17 18 19 20 21 22 23 24 25 26 27 28 29 30 31 32 33\n",
      " 34 35 36 37 38 39 40 41 42 43 44 45 46 47 48 49]\n",
      "array_2: [10 11 12 13 14 15 16 17 18 19 20 21 22 23 24 25 26 27 28 29 30 31 32 33\n",
      " 34 35 36 37 38 39 40 41 42 43 44 45 46 47 48 49]\n",
      "array_3: [10 11 12 13 14 15 16 17 18 19 20 21 22 23 24 25 26 27 28 29 30 31 32 33\n",
      " 34 35 36 37 38 39 40 41 42 43 44 45 46 47 48 49]\n"
     ]
    }
   ],
   "source": [
    "# your code goes here\n",
    "\n",
    "print(f\"array_1: {np.arange(10,50)}\")\n",
    "print(f\"array_2: {np.array(list(range(10,50)))}\")\n",
    "print(f\"array_3: {np.array(list(map(lambda x : x, range(10,50))))}\")"
   ]
  },
  {
   "cell_type": "markdown",
   "metadata": {},
   "source": [
    "![green-divider](https://user-images.githubusercontent.com/7065401/52071924-c003ad80-2562-11e9-8297-1c6595f8a7ff.png)\n",
    "\n",
    "### Create a numpy matrix of 2*2 integers, filled with ones."
   ]
  },
  {
   "cell_type": "code",
   "execution_count": 7,
   "metadata": {},
   "outputs": [
    {
     "name": "stdout",
     "output_type": "stream",
     "text": [
      "matrix_1:\n",
      "[[1 1]\n",
      " [1 1]]\n",
      "matrix_2:\n",
      "[[1 1]\n",
      " [1 1]]\n",
      "matrix_3:\n",
      "[[1 1]\n",
      " [1 1]]\n"
     ]
    }
   ],
   "source": [
    "# your code goes here\n",
    "print(f\"matrix_1:\\n{np.array([[1,1],[1,1]])}\")\n",
    "print(f\"matrix_2:\\n{np.array([np.ones(2, dtype=int),np.ones(2, dtype=int)])}\")\n",
    "print(f\"matrix_3:\\n{np.ones([2,2],dtype=int)}\")"
   ]
  },
  {
   "cell_type": "markdown",
   "metadata": {},
   "source": [
    "![green-divider](https://user-images.githubusercontent.com/7065401/52071924-c003ad80-2562-11e9-8297-1c6595f8a7ff.png)\n",
    "\n",
    "### Create a numpy matrix of 3*2 float numbers, filled with ones."
   ]
  },
  {
   "cell_type": "code",
   "execution_count": 10,
   "metadata": {},
   "outputs": [
    {
     "name": "stdout",
     "output_type": "stream",
     "text": [
      "matrix_1: [[1. 1.]\n",
      " [1. 1.]\n",
      " [1. 1.]]\n",
      "matrix_2: [[1. 1.]\n",
      " [1. 1.]\n",
      " [1. 1.]]\n",
      "matrix_3: [[1. 1.]\n",
      " [1. 1.]\n",
      " [1. 1.]]\n"
     ]
    }
   ],
   "source": [
    "# your code goes here\n",
    "print(f\"matrix_1: {np.array([[1,1],[1,1],[1,1]], dtype=float)}\")\n",
    "print(f\"matrix_2: {np.array([np.ones(2, dtype=float),np.ones(2, dtype=float),np.ones(2, dtype=float)])}\")\n",
    "print(f\"matrix_3: {np.ones([3,2],dtype=float)}\")"
   ]
  },
  {
   "cell_type": "markdown",
   "metadata": {},
   "source": [
    "![green-divider](https://user-images.githubusercontent.com/7065401/52071924-c003ad80-2562-11e9-8297-1c6595f8a7ff.png)\n",
    "\n",
    "### Given the X numpy array, create a new numpy array with the same shape and type as X, filled with ones."
   ]
  },
  {
   "cell_type": "code",
   "execution_count": 11,
   "metadata": {},
   "outputs": [
    {
     "name": "stdout",
     "output_type": "stream",
     "text": [
      "x: [0 1 2 3 4]\n",
      "new_1: [1 1 1 1 1]\n",
      "new_2:[1 1 1 1 1]\n"
     ]
    }
   ],
   "source": [
    "# your code goes here\n",
    "shape = 5\n",
    "x  = np.arange(shape, dtype=int)\n",
    "print(f\"x: {x}\")\n",
    "print(f\"new_1: {np.ones(x.shape,dtype=int)}\")\n",
    "print(f\"new_2:{np.ones_like(x)}\")"
   ]
  },
  {
   "cell_type": "markdown",
   "metadata": {},
   "source": [
    "![green-divider](https://user-images.githubusercontent.com/7065401/52071924-c003ad80-2562-11e9-8297-1c6595f8a7ff.png)\n",
    "\n",
    "### Given the X numpy matrix, create a new numpy matrix with the same shape and type as X, filled with zeros."
   ]
  },
  {
   "cell_type": "code",
   "execution_count": 12,
   "metadata": {},
   "outputs": [
    {
     "name": "stdout",
     "output_type": "stream",
     "text": [
      "x: [0 1 2 3 4]\n",
      "new_1: [0 0 0 0 0]\n",
      "new_2: [0 0 0 0 0]\n"
     ]
    }
   ],
   "source": [
    "# your code goes here\n",
    "shape = 5\n",
    "x  = np.arange(shape, dtype=int)\n",
    "print(f\"x: {x}\")\n",
    "print(f\"new_1: {np.zeros(x.shape,dtype=int)}\")\n",
    "print(f\"new_2: {np.zeros_like(x)}\")"
   ]
  },
  {
   "cell_type": "markdown",
   "metadata": {},
   "source": [
    "![green-divider](https://user-images.githubusercontent.com/7065401/52071924-c003ad80-2562-11e9-8297-1c6595f8a7ff.png)\n",
    "\n",
    "### Create a numpy matrix of 4*4 integers, filled with fives."
   ]
  },
  {
   "cell_type": "code",
   "execution_count": 13,
   "metadata": {},
   "outputs": [
    {
     "name": "stdout",
     "output_type": "stream",
     "text": [
      "matrix\n",
      "[[5 5 5 5]\n",
      " [5 5 5 5]\n",
      " [5 5 5 5]\n",
      " [5 5 5 5]]\n"
     ]
    }
   ],
   "source": [
    "# your code goes here\n",
    "print(f\"matrix\\n{np.ones([4,4], dtype=int) * 5}\")"
   ]
  },
  {
   "cell_type": "markdown",
   "metadata": {},
   "source": [
    "![green-divider](https://user-images.githubusercontent.com/7065401/52071924-c003ad80-2562-11e9-8297-1c6595f8a7ff.png)\n",
    "\n",
    "### Given the X numpy matrix, create a new numpy matrix with the same shape and type as X, filled with sevens."
   ]
  },
  {
   "cell_type": "code",
   "execution_count": 69,
   "metadata": {},
   "outputs": [
    {
     "name": "stdout",
     "output_type": "stream",
     "text": [
      "x:\n",
      "[[6 3 8]\n",
      " [6 2 3]]\n",
      "copy_x:\n",
      "[[7 7 7]\n",
      " [7 7 7]]\n"
     ]
    }
   ],
   "source": [
    "# your code goes here\n",
    "x = np.array([[6,3,8], [6,2,3]], dtype=int)\n",
    "print(f\"x:\\n{x}\")\n",
    "copy_x = np.ones_like(x) * 7\n",
    "print(f\"copy_x:\\n{copy_x}\")"
   ]
  },
  {
   "cell_type": "markdown",
   "metadata": {},
   "source": [
    "![green-divider](https://user-images.githubusercontent.com/7065401/52071924-c003ad80-2562-11e9-8297-1c6595f8a7ff.png)\n",
    "\n",
    "### Create a 3*3 identity numpy matrix with ones on the diagonal and zeros elsewhere."
   ]
  },
  {
   "cell_type": "code",
   "execution_count": 82,
   "metadata": {},
   "outputs": [
    {
     "name": "stdout",
     "output_type": "stream",
     "text": [
      "manual:\n",
      "[[1. 0. 0. 0. 0.]\n",
      " [0. 1. 0. 0. 0.]\n",
      " [0. 0. 1. 0. 0.]\n",
      " [0. 0. 0. 1. 0.]\n",
      " [0. 0. 0. 0. 1.]]\n",
      "eye:\n",
      "[[1. 0. 0. 0. 0.]\n",
      " [0. 1. 0. 0. 0.]\n",
      " [0. 0. 1. 0. 0.]\n",
      " [0. 0. 0. 1. 0.]\n",
      " [0. 0. 0. 0. 1.]]\n",
      "identity:\n",
      "[[1. 0. 0. 0. 0.]\n",
      " [0. 1. 0. 0. 0.]\n",
      " [0. 0. 1. 0. 0.]\n",
      " [0. 0. 0. 1. 0.]\n",
      " [0. 0. 0. 0. 1.]]\n"
     ]
    }
   ],
   "source": [
    "# your code goes here\n",
    "n = 5\n",
    "zeros = np.zeros([n,n])\n",
    "for i in range(0,n):\n",
    "    for j in range(0,n):\n",
    "        if j == i :\n",
    "            zeros[i,j]=1\n",
    "\n",
    "print(f\"manual:\\n{zeros}\")\n",
    "print(f\"eye:\\n{np.eye(n)}\")\n",
    "print(f\"identity:\\n{np.identity(n)}\")\n"
   ]
  },
  {
   "cell_type": "markdown",
   "metadata": {},
   "source": [
    "![green-divider](https://user-images.githubusercontent.com/7065401/52071924-c003ad80-2562-11e9-8297-1c6595f8a7ff.png)\n",
    "\n",
    "### Create a numpy array, filled with 3 random integer values between 1 and 10."
   ]
  },
  {
   "cell_type": "code",
   "execution_count": 101,
   "metadata": {},
   "outputs": [
    {
     "name": "stdout",
     "output_type": "stream",
     "text": [
      "array_random: [7 4 8]\n",
      "np.random: [6 1 0]\n"
     ]
    }
   ],
   "source": [
    "# your code goes here\n",
    "import random\n",
    "x = lambda: random.randint(1,10)\n",
    "print(f\"array_random: {np.array([x(),x(),x()])}\")\n",
    "print(f\"np.random: {np.random.randint(10, size=3)}\")"
   ]
  },
  {
   "cell_type": "markdown",
   "metadata": {},
   "source": [
    "![green-divider](https://user-images.githubusercontent.com/7065401/52071924-c003ad80-2562-11e9-8297-1c6595f8a7ff.png)\n",
    "\n",
    "### Create a 3\\*3\\*3 numpy matrix, filled with random float values."
   ]
  },
  {
   "cell_type": "code",
   "execution_count": 110,
   "metadata": {},
   "outputs": [
    {
     "name": "stdout",
     "output_type": "stream",
     "text": [
      "np.random: [[[ 1.63167209 -1.68598908 -1.16452933]\n",
      "  [-0.84147627  1.26436915 -1.10136599]\n",
      "  [-0.20933908  0.63443388 -1.32541663]]\n",
      "\n",
      " [[ 1.05234302 -1.63916143  0.33422725]\n",
      "  [ 1.1915255   1.33629173 -1.40504156]\n",
      "  [ 1.17962724  0.07699839 -1.69416485]]\n",
      "\n",
      " [[ 0.70325046  0.4985866  -0.32400154]\n",
      "  [-0.820423   -1.6371848   0.74215127]\n",
      "  [ 0.6699689  -1.23119399  0.08846663]]]\n"
     ]
    }
   ],
   "source": [
    "# your code goes here\n",
    "\n",
    "print(f\"np.random: {np.random.randn(3,3,3)}\")"
   ]
  },
  {
   "cell_type": "markdown",
   "metadata": {},
   "source": [
    "![green-divider](https://user-images.githubusercontent.com/7065401/52071924-c003ad80-2562-11e9-8297-1c6595f8a7ff.png)\n",
    "\n",
    "### Given the X python list convert it to an Y numpy array"
   ]
  },
  {
   "cell_type": "code",
   "execution_count": null,
   "metadata": {},
   "outputs": [
    {
     "name": "stdout",
     "output_type": "stream",
     "text": [
      "[1, 2, 3]: <class 'list'>\n",
      "[1 2 3]: <class 'numpy.ndarray'>\n"
     ]
    }
   ],
   "source": [
    "# your code goes here\n",
    "x = [1,2,3]\n",
    "print(f\"{x}: {type(x)}\")\n",
    "y = np.array(x)\n",
    "print(f\"{y}: {type(y)}\")"
   ]
  },
  {
   "cell_type": "markdown",
   "metadata": {},
   "source": [
    "![green-divider](https://user-images.githubusercontent.com/7065401/52071924-c003ad80-2562-11e9-8297-1c6595f8a7ff.png)\n",
    "\n",
    "### Given the X numpy array, make a copy and store it on Y."
   ]
  },
  {
   "cell_type": "code",
   "execution_count": 126,
   "metadata": {},
   "outputs": [
    {
     "name": "stdout",
     "output_type": "stream",
     "text": [
      "x:[1 2 3] id:1816769289104 <class 'numpy.ndarray'>:: y[1 2 3] 1816769286992 <class 'numpy.ndarray'>\n",
      "x:[1 2 3] id:1816769289104 <class 'numpy.ndarray'>:: y[1 2 3] 1816769285168 <class 'numpy.ndarray'>\n"
     ]
    }
   ],
   "source": [
    "# your code goes here\n",
    "x = np.array([1,2,3], dtype=int)\n",
    "y = np.copy(x)\n",
    "y2 = x.copy()\n",
    "\n",
    "print(f\"x:{x} id:{id(x)} {type(x)}:: y{y} {id(y)} {type(y)}\")\n",
    "print(f\"x:{x} id:{id(x)} {type(x)}:: y{y2} {id(y2)} {type(y2)}\")"
   ]
  },
  {
   "cell_type": "markdown",
   "metadata": {},
   "source": [
    "![green-divider](https://user-images.githubusercontent.com/7065401/52071924-c003ad80-2562-11e9-8297-1c6595f8a7ff.png)\n",
    "\n",
    "### Create a numpy array with numbers from 1 to 10"
   ]
  },
  {
   "cell_type": "code",
   "execution_count": 125,
   "metadata": {},
   "outputs": [
    {
     "name": "stdout",
     "output_type": "stream",
     "text": [
      "[ 1  2  3  4  5  6  7  8  9 10]\n"
     ]
    }
   ],
   "source": [
    "# your code goes here\n",
    "print(f\"{np.arange(start=1, stop=11, step=1)}\")"
   ]
  },
  {
   "cell_type": "markdown",
   "metadata": {},
   "source": [
    "![green-divider](https://user-images.githubusercontent.com/7065401/52071924-c003ad80-2562-11e9-8297-1c6595f8a7ff.png)\n",
    "\n",
    "### Create a numpy array with the odd numbers between 1 to 10"
   ]
  },
  {
   "cell_type": "code",
   "execution_count": 137,
   "metadata": {},
   "outputs": [
    {
     "name": "stdout",
     "output_type": "stream",
     "text": [
      "[1 3 5 7 9]\n",
      "[1 3 5 7 9]\n"
     ]
    }
   ],
   "source": [
    "# your code goes here\n",
    "print(f\"{np.arange(start=1, stop=11, step=2)}\")\n",
    "\n",
    "numbers = np.arange(start=1, stop=11, step=1)\n",
    "odd_numbers = numbers[numbers % 2 != 0]\n",
    "print(odd_numbers)"
   ]
  },
  {
   "cell_type": "markdown",
   "metadata": {},
   "source": [
    "![green-divider](https://user-images.githubusercontent.com/7065401/52071924-c003ad80-2562-11e9-8297-1c6595f8a7ff.png)\n",
    "\n",
    "### Create a numpy array with numbers from 1 to 10, in descending order."
   ]
  },
  {
   "cell_type": "code",
   "execution_count": 149,
   "metadata": {},
   "outputs": [
    {
     "name": "stdout",
     "output_type": "stream",
     "text": [
      "numbers: [10  9  8  7  6  5  4  3  2  1]\n"
     ]
    }
   ],
   "source": [
    "# your code goes here\n",
    "numbers = np.arange(start=1, stop=11, step=1)\n",
    "print(f\"numbers: {numbers[::-1]}\")"
   ]
  },
  {
   "cell_type": "markdown",
   "metadata": {},
   "source": [
    "![green-divider](https://user-images.githubusercontent.com/7065401/52071924-c003ad80-2562-11e9-8297-1c6595f8a7ff.png)\n",
    "\n",
    "### Create a 3*3 numpy matrix, filled with values ranging from 0 to 8"
   ]
  },
  {
   "cell_type": "code",
   "execution_count": 45,
   "metadata": {},
   "outputs": [
    {
     "name": "stdout",
     "output_type": "stream",
     "text": [
      "lambda:\n",
      "[[1 2 4]\n",
      " [6 0 5]\n",
      " [1 5 3]]\n",
      "reshape:\n",
      "[[0 1 2]\n",
      " [3 4 5]\n",
      " [6 7 8]]\n"
     ]
    }
   ],
   "source": [
    "# your code goes here\n",
    "#prueba con lambda\n",
    "import random\n",
    "x = lambda: random.randint(0,8)\n",
    "lista = lambda: [x(),x(),x()]\n",
    "print(f\"lambda:\\n{np.array([lista(),lista(),lista()])}\")\n",
    "\n",
    "print(f\"reshape:\\n{np.arange(9).reshape(3,3)}\")"
   ]
  },
  {
   "cell_type": "markdown",
   "metadata": {},
   "source": [
    "![green-divider](https://user-images.githubusercontent.com/7065401/52071924-c003ad80-2562-11e9-8297-1c6595f8a7ff.png)\n",
    "\n",
    "### Show the memory size of the given Z numpy matrix"
   ]
  },
  {
   "cell_type": "code",
   "execution_count": 65,
   "metadata": {},
   "outputs": [
    {
     "name": "stdout",
     "output_type": "stream",
     "text": [
      "[[1. 1. 1. 1. 1. 1. 1. 1.]\n",
      " [1. 1. 1. 1. 1. 1. 1. 1.]\n",
      " [1. 1. 1. 1. 1. 1. 1. 1.]\n",
      " [1. 1. 1. 1. 1. 1. 1. 1.]\n",
      " [1. 1. 1. 1. 1. 1. 1. 1.]\n",
      " [1. 1. 1. 1. 1. 1. 1. 1.]\n",
      " [1. 1. 1. 1. 1. 1. 1. 1.]\n",
      " [1. 1. 1. 1. 1. 1. 1. 1.]]\n",
      "size: 64\n",
      "items size: 8\n",
      "memori size: 512 bytes\n",
      "Memory size: 0.000512 Megabytes\n"
     ]
    }
   ],
   "source": [
    "# your code goes here\n",
    "z = np.ones((8,8))\n",
    "print(z)\n",
    "print(f\"size: {z.size}\")\n",
    "print(f\"items size: {z.itemsize}\")\n",
    "print(f\"memori size: {(z.size * z.itemsize)} bytes\")\n",
    "print(f\"Memory size: {(z.size * z.itemsize) / 1_000_000} Megabytes\")"
   ]
  },
  {
   "cell_type": "markdown",
   "metadata": {},
   "source": [
    "![purple-divider](https://user-images.githubusercontent.com/7065401/52071927-c1cd7100-2562-11e9-908a-dde91ba14e59.png)\n",
    "\n",
    "## Array indexation\n"
   ]
  },
  {
   "cell_type": "markdown",
   "metadata": {},
   "source": [
    "### Given the X numpy array, show it's first element"
   ]
  },
  {
   "cell_type": "code",
   "execution_count": 75,
   "metadata": {},
   "outputs": [
    {
     "name": "stdout",
     "output_type": "stream",
     "text": [
      " first element: 1\n",
      " first element: A\n"
     ]
    }
   ],
   "source": [
    "# your code goes here\n",
    "\n",
    "x = np.arange(1,10)\n",
    "print(f\" first element: {x[0]}\")\n",
    "\n",
    "x = np.array(['A','B','C','D','E'])\n",
    "print(f\" first element: {x[0]}\")"
   ]
  },
  {
   "cell_type": "markdown",
   "metadata": {},
   "source": [
    "![green-divider](https://user-images.githubusercontent.com/7065401/52071924-c003ad80-2562-11e9-8297-1c6595f8a7ff.png)\n",
    "\n",
    "### Given the X numpy array, show it's last element"
   ]
  },
  {
   "cell_type": "code",
   "execution_count": 112,
   "metadata": {},
   "outputs": [
    {
     "name": "stdout",
     "output_type": "stream",
     "text": [
      " last element: ['E']\n",
      " last element: E\n",
      " last element: E\n",
      " last element: E\n"
     ]
    }
   ],
   "source": [
    "# your code goes here\n",
    "x = np.array(['A','B','C','D','E'])\n",
    "print(f\" last element: {x[-1:]}\")\n",
    "print(f\" last element: {x[-1]}\")\n",
    "print(f\" last element: {x[x.shape[0]-1]}\")\n",
    "print(f\" last element: {x[len(x)-1]}\")"
   ]
  },
  {
   "cell_type": "markdown",
   "metadata": {},
   "source": [
    "![green-divider](https://user-images.githubusercontent.com/7065401/52071924-c003ad80-2562-11e9-8297-1c6595f8a7ff.png)\n",
    "\n",
    "### Given the X numpy array, show it's first three elements"
   ]
  },
  {
   "cell_type": "code",
   "execution_count": 111,
   "metadata": {},
   "outputs": [
    {
     "name": "stdout",
     "output_type": "stream",
     "text": [
      " three elements: ['A' 'B' 'C']\n",
      " three elements: ['A' 'B' 'C']\n"
     ]
    }
   ],
   "source": [
    "# your code goes here\n",
    "x = np.array(['A','B','C','D','E'])\n",
    "# print(f\" last element: {x[-3:]}\")\n",
    "print(f\" three elements: {x[:3]}\")\n",
    "print(f\" three elements: {x[0:3]}\")"
   ]
  },
  {
   "cell_type": "markdown",
   "metadata": {},
   "source": [
    "![green-divider](https://user-images.githubusercontent.com/7065401/52071924-c003ad80-2562-11e9-8297-1c6595f8a7ff.png)\n",
    "\n",
    "### Given the X numpy array, show all middle elements"
   ]
  },
  {
   "cell_type": "code",
   "execution_count": null,
   "metadata": {},
   "outputs": [
    {
     "name": "stdout",
     "output_type": "stream",
     "text": [
      "middle lements(slicing): ['B' 'C' 'D' 'E' 'F']\n"
     ]
    }
   ],
   "source": [
    "# your code goes here\n",
    "x = np.array(['A','B','C','D','E','F','G'])\n",
    "print(f\"middle lements(slicing): {(x[1:-1])}\")"
   ]
  },
  {
   "cell_type": "markdown",
   "metadata": {},
   "source": [
    "![green-divider](https://user-images.githubusercontent.com/7065401/52071924-c003ad80-2562-11e9-8297-1c6595f8a7ff.png)\n",
    "\n",
    "### Given the X numpy array, show the elements in reverse position"
   ]
  },
  {
   "cell_type": "code",
   "execution_count": 133,
   "metadata": {},
   "outputs": [
    {
     "name": "stdout",
     "output_type": "stream",
     "text": [
      "reverse lements(slicing): ['G' 'F' 'E' 'D' 'C' 'B' 'A']\n"
     ]
    }
   ],
   "source": [
    "# your code goes here\n",
    "x = np.array(['A','B','C','D','E','F','G'])\n",
    "print(f\"reverse lements(slicing): {(x[::-1])}\")"
   ]
  },
  {
   "cell_type": "markdown",
   "metadata": {},
   "source": [
    "![green-divider](https://user-images.githubusercontent.com/7065401/52071924-c003ad80-2562-11e9-8297-1c6595f8a7ff.png)\n",
    "\n",
    "### Given the X numpy array, show the elements in an odd position"
   ]
  },
  {
   "cell_type": "code",
   "execution_count": null,
   "metadata": {},
   "outputs": [
    {
     "name": "stdout",
     "output_type": "stream",
     "text": [
      "odd position(slicing): ['A' 'C' 'E' 'G']\n"
     ]
    }
   ],
   "source": [
    "# your code goes here\n",
    "x = np.array(['A','B','C','D','E','F','G'])\n",
    "print(f\"odd position(slicing): {(x[::2])}\") # cada dos elementos"
   ]
  },
  {
   "cell_type": "markdown",
   "metadata": {},
   "source": [
    "![green-divider](https://user-images.githubusercontent.com/7065401/52071924-c003ad80-2562-11e9-8297-1c6595f8a7ff.png)\n",
    "\n",
    "### Given the X numpy matrix, show the first row elements"
   ]
  },
  {
   "cell_type": "code",
   "execution_count": null,
   "metadata": {},
   "outputs": [
    {
     "name": "stdout",
     "output_type": "stream",
     "text": [
      "first row:\n",
      "[1 2 3 4]\n"
     ]
    }
   ],
   "source": [
    "# your code goes here\n",
    "x = np.array([\n",
    "    [1,   2,  3,  4],\n",
    "    [5,   6,  7,  8],\n",
    "    [9,  10, 11, 12],\n",
    "    [13, 14, 15, 16]\n",
    "])\n",
    "\n",
    "print(f\"first row elements:\\n{x[0]}\")"
   ]
  },
  {
   "cell_type": "markdown",
   "metadata": {},
   "source": [
    "![green-divider](https://user-images.githubusercontent.com/7065401/52071924-c003ad80-2562-11e9-8297-1c6595f8a7ff.png)\n",
    "\n",
    "### Given the X numpy matrix, show the last row elements"
   ]
  },
  {
   "cell_type": "code",
   "execution_count": 4,
   "metadata": {},
   "outputs": [
    {
     "name": "stdout",
     "output_type": "stream",
     "text": [
      "last row elements:\n",
      "[13 14 15 16]\n"
     ]
    }
   ],
   "source": [
    "# your code goes here\n",
    "x = np.array([\n",
    "    [1,   2,  3,  4],\n",
    "    [5,   6,  7,  8],\n",
    "    [9,  10, 11, 12],\n",
    "    [13, 14, 15, 16]\n",
    "])\n",
    "\n",
    "print(f\"last row elements:\\n{x[-1]}\")"
   ]
  },
  {
   "cell_type": "markdown",
   "metadata": {},
   "source": [
    "![green-divider](https://user-images.githubusercontent.com/7065401/52071924-c003ad80-2562-11e9-8297-1c6595f8a7ff.png)\n",
    "\n",
    "### Given the X numpy matrix, show the first element on first row"
   ]
  },
  {
   "cell_type": "code",
   "execution_count": 15,
   "metadata": {},
   "outputs": [
    {
     "name": "stdout",
     "output_type": "stream",
     "text": [
      "first element(array): 1\n",
      "first element(matrix): 1\n"
     ]
    }
   ],
   "source": [
    "# your code goes here\n",
    "x = np.array([\n",
    "    [1,   2,  3,  4],\n",
    "    [5,   6,  7,  8],\n",
    "    [9,  10, 11, 12],\n",
    "    [13, 14, 15, 16]\n",
    "])\n",
    "\n",
    "print(f'first element(array): {x[0][0]}')\n",
    "print(f'first element(matrix): {x[0,0]}')"
   ]
  },
  {
   "cell_type": "markdown",
   "metadata": {},
   "source": [
    "![green-divider](https://user-images.githubusercontent.com/7065401/52071924-c003ad80-2562-11e9-8297-1c6595f8a7ff.png)\n",
    "\n",
    "### Given the X numpy matrix, show the last element on last row"
   ]
  },
  {
   "cell_type": "code",
   "execution_count": 16,
   "metadata": {},
   "outputs": [
    {
     "name": "stdout",
     "output_type": "stream",
     "text": [
      "last element(array): 16\n",
      "last element(matrix): 16\n"
     ]
    }
   ],
   "source": [
    "# your code goes here\n",
    "x = np.array([\n",
    "    [1,   2,  3,  4],\n",
    "    [5,   6,  7,  8],\n",
    "    [9,  10, 11, 12],\n",
    "    [13, 14, 15, 16]\n",
    "])\n",
    "\n",
    "print(f'last element(array): {x[-1][-1]}')\n",
    "print(f'last element(matrix): {x[-1,-1]}')"
   ]
  },
  {
   "cell_type": "markdown",
   "metadata": {},
   "source": [
    "![green-divider](https://user-images.githubusercontent.com/7065401/52071924-c003ad80-2562-11e9-8297-1c6595f8a7ff.png)\n",
    "\n",
    "### Given the X numpy matrix, show the middle row elements"
   ]
  },
  {
   "cell_type": "code",
   "execution_count": null,
   "metadata": {},
   "outputs": [
    {
     "name": "stdout",
     "output_type": "stream",
     "text": [
      "middle row: []\n",
      "middle row:\n",
      "[[ 5  6  7  8]\n",
      " [ 9 10 11 12]]\n"
     ]
    }
   ],
   "source": [
    "# your code goes here\n",
    "x = np.array([\n",
    "    [1,   2,  3,  4],\n",
    "    [5,   6,  7,  8],\n",
    "    [9,  10, 11, 12],\n",
    "    [13, 14, 15, 16]\n",
    "])\n",
    "\n",
    "print(f'middle row: {x[1:-1][1:-1]}') # la matriz no es posible tratarla como un array normal por que se generan dos arrays independientes \n",
    "print(f'middle row:\\n{x[1:-1, 1:-1]}')"
   ]
  },
  {
   "cell_type": "markdown",
   "metadata": {},
   "source": [
    "![green-divider](https://user-images.githubusercontent.com/7065401/52071924-c003ad80-2562-11e9-8297-1c6595f8a7ff.png)\n",
    "\n",
    "### Given the X numpy matrix, show the first two elements on the first two rows"
   ]
  },
  {
   "cell_type": "code",
   "execution_count": 17,
   "metadata": {},
   "outputs": [
    {
     "name": "stdout",
     "output_type": "stream",
     "text": [
      "two elements:\n",
      "[[1 2]\n",
      " [5 6]]\n"
     ]
    }
   ],
   "source": [
    "# your code goes here\n",
    "x = np.array([\n",
    "    [1,   2,  3,  4],\n",
    "    [5,   6,  7,  8],\n",
    "    [9,  10, 11, 12],\n",
    "    [13, 14, 15, 16]\n",
    "])\n",
    "\n",
    "print(f'two elements:\\n{x[:2,:2]}')"
   ]
  },
  {
   "cell_type": "markdown",
   "metadata": {},
   "source": [
    "![green-divider](https://user-images.githubusercontent.com/7065401/52071924-c003ad80-2562-11e9-8297-1c6595f8a7ff.png)\n",
    "\n",
    "### Given the X numpy matrix, show the last two elements on the last two rows"
   ]
  },
  {
   "cell_type": "code",
   "execution_count": 8,
   "metadata": {},
   "outputs": [
    {
     "name": "stdout",
     "output_type": "stream",
     "text": [
      "last two elements:\n",
      "[[11 12]\n",
      " [15 16]]\n"
     ]
    }
   ],
   "source": [
    "# your code goes here\n",
    "x = np.array([\n",
    "    [1,   2,  3,  4],\n",
    "    [5,   6,  7,  8],\n",
    "    [9,  10, 11, 12],\n",
    "    [13, 14, 15, 16]\n",
    "])\n",
    "\n",
    "print(f'last two elements:\\n{x[-2:,-2:]}')"
   ]
  },
  {
   "cell_type": "markdown",
   "metadata": {},
   "source": [
    "![purple-divider](https://user-images.githubusercontent.com/7065401/52071927-c1cd7100-2562-11e9-908a-dde91ba14e59.png)\n",
    "\n",
    "## Array manipulation\n"
   ]
  },
  {
   "cell_type": "markdown",
   "metadata": {},
   "source": [
    "### Convert the given integer numpy array to float"
   ]
  },
  {
   "cell_type": "code",
   "execution_count": 193,
   "metadata": {},
   "outputs": [
    {
     "name": "stdout",
     "output_type": "stream",
     "text": [
      "original: [-5, -3, 0, 10, 40]\n",
      "np.float64: [-5. -3.  0. 10. 40.]\n",
      "np dtype: [-5. -3.  0. 10. 40.]\n"
     ]
    }
   ],
   "source": [
    "# your code goes here\n",
    "x = [-5, -3, 0, 10, 40]\n",
    "print(f\"original: {x}\")\n",
    "x2 = np.float64(x)\n",
    "print(f\"np.float64: {x2}\")\n",
    "x3 = np.array(x, dtype=float)\n",
    "print(f\"np dtype: {x3}\")"
   ]
  },
  {
   "cell_type": "markdown",
   "metadata": {},
   "source": [
    "![green-divider](https://user-images.githubusercontent.com/7065401/52071924-c003ad80-2562-11e9-8297-1c6595f8a7ff.png)\n",
    "\n",
    "### Reverse the given numpy array (first element becomes last)"
   ]
  },
  {
   "cell_type": "code",
   "execution_count": 197,
   "metadata": {},
   "outputs": [
    {
     "name": "stdout",
     "output_type": "stream",
     "text": [
      "reverse: [40 10  0 -3 -5]\n"
     ]
    }
   ],
   "source": [
    "# your code goes here\n",
    "x = np.array([-5, -3, 0, 10, 40])\n",
    "print(f\"reverse: {x[::-1]}\")"
   ]
  },
  {
   "cell_type": "markdown",
   "metadata": {},
   "source": [
    "![green-divider](https://user-images.githubusercontent.com/7065401/52071924-c003ad80-2562-11e9-8297-1c6595f8a7ff.png)\n",
    "\n",
    "### Order (sort) the given numpy array"
   ]
  },
  {
   "cell_type": "code",
   "execution_count": 201,
   "metadata": {},
   "outputs": [
    {
     "name": "stdout",
     "output_type": "stream",
     "text": [
      "order: [-5 -3  0 10 40]\n"
     ]
    }
   ],
   "source": [
    "# your code goes here\n",
    "x = np.array([-5, -3, 0, 10, 40])\n",
    "print(f\"order: {np.sort(x)}\")"
   ]
  },
  {
   "cell_type": "markdown",
   "metadata": {},
   "source": [
    "![green-divider](https://user-images.githubusercontent.com/7065401/52071924-c003ad80-2562-11e9-8297-1c6595f8a7ff.png)\n",
    "\n",
    "### Given the X numpy array, set the fifth element equal to 1"
   ]
  },
  {
   "cell_type": "code",
   "execution_count": 203,
   "metadata": {},
   "outputs": [
    {
     "name": "stdout",
     "output_type": "stream",
     "text": [
      "set 1: [-5 -3  0 10  1]\n"
     ]
    }
   ],
   "source": [
    "# your code goes here\n",
    "x = np.array([-5, -3, 0, 10, 40])\n",
    "x[4] = 1\n",
    "print(f\"set 1: {x}\")"
   ]
  },
  {
   "cell_type": "markdown",
   "metadata": {},
   "source": [
    "![green-divider](https://user-images.githubusercontent.com/7065401/52071924-c003ad80-2562-11e9-8297-1c6595f8a7ff.png)\n",
    "\n",
    "### Given the X numpy array, change the 50 with a 40"
   ]
  },
  {
   "cell_type": "code",
   "execution_count": 10,
   "metadata": {},
   "outputs": [
    {
     "name": "stdout",
     "output_type": "stream",
     "text": [
      "original: [ 2 50 -5 -3  0 10 80 50]\n",
      "index to change: 1\n",
      "index to change: 7\n",
      "change: [ 2 40 -5 -3  0 10 80 40]\n"
     ]
    }
   ],
   "source": [
    "# your code goes here\n",
    "x = np.array([2,50,-5, -3, 0, 10, 80, 50])\n",
    "print(f\"original: {x}\")\n",
    "indexs = np.where(x == 50)\n",
    "for index in indexs[0]:\n",
    "    print(f\"index to change: {index}\")\n",
    "x[indexs] = 40\n",
    "print(f\"change: {x}\")"
   ]
  },
  {
   "cell_type": "markdown",
   "metadata": {},
   "source": [
    "![green-divider](https://user-images.githubusercontent.com/7065401/52071924-c003ad80-2562-11e9-8297-1c6595f8a7ff.png)\n",
    "\n",
    "### Given the X numpy matrix, change the last row with all 1"
   ]
  },
  {
   "cell_type": "code",
   "execution_count": 225,
   "metadata": {},
   "outputs": [
    {
     "name": "stdout",
     "output_type": "stream",
     "text": [
      "original:\n",
      " [[ 1  2  3  4]\n",
      " [ 5  6  7  8]\n",
      " [ 9 10 11 12]\n",
      " [13 14 15 16]]\n",
      "last change elements:\n",
      " [[ 1  2  3  4]\n",
      " [ 5  6  7  8]\n",
      " [ 9 10 11 12]\n",
      " [ 1  1  1  1]]\n"
     ]
    }
   ],
   "source": [
    "# your code goes here\n",
    "x = np.array([\n",
    "    [1,   2,  3,  4],\n",
    "    [5,   6,  7,  8],\n",
    "    [9,  10, 11, 12],\n",
    "    [13, 14, 15, 16]\n",
    "])\n",
    "\n",
    "print(f'original:\\n {x}')\n",
    "x[-1] = np.ones_like(x[-1])\n",
    "print(f'last change elements:\\n {x}')"
   ]
  },
  {
   "cell_type": "markdown",
   "metadata": {},
   "source": [
    "![green-divider](https://user-images.githubusercontent.com/7065401/52071924-c003ad80-2562-11e9-8297-1c6595f8a7ff.png)\n",
    "\n",
    "### Given the X numpy matrix, change the last item on the last row with a 0"
   ]
  },
  {
   "cell_type": "code",
   "execution_count": 228,
   "metadata": {},
   "outputs": [
    {
     "name": "stdout",
     "output_type": "stream",
     "text": [
      "original:\n",
      " [[ 1  2  3  4]\n",
      " [ 5  6  7  8]\n",
      " [ 9 10 11 12]\n",
      " [13 14 15 16]]\n",
      "last change elements:\n",
      " [[ 1  2  3  4]\n",
      " [ 5  6  7  8]\n",
      " [ 9 10 11 12]\n",
      " [13 14 15  0]]\n"
     ]
    }
   ],
   "source": [
    "# your code goes here\n",
    "x = np.array([\n",
    "    [1,   2,  3,  4],\n",
    "    [5,   6,  7,  8],\n",
    "    [9,  10, 11, 12],\n",
    "    [13, 14, 15, 16]\n",
    "])\n",
    "\n",
    "print(f'original:\\n {x}')\n",
    "x[-1,-1] = 0\n",
    "print(f'last change elements:\\n {x}')"
   ]
  },
  {
   "cell_type": "markdown",
   "metadata": {},
   "source": [
    "![green-divider](https://user-images.githubusercontent.com/7065401/52071924-c003ad80-2562-11e9-8297-1c6595f8a7ff.png)\n",
    "\n",
    "### Given the X numpy matrix, add 5 to every element"
   ]
  },
  {
   "cell_type": "code",
   "execution_count": null,
   "metadata": {},
   "outputs": [
    {
     "name": "stdout",
     "output_type": "stream",
     "text": [
      "original:\n",
      " [[ 1  2  3  4]\n",
      " [ 5  6  7  8]\n",
      " [ 9 10 11 12]\n",
      " [13 14 15 16]]\n",
      "add 5 the each elements:\n",
      " [[ 6  7  8  9]\n",
      " [10 11 12 13]\n",
      " [14 15 16 17]\n",
      " [18 19 20 21]]\n"
     ]
    }
   ],
   "source": [
    "# your code goes here\n",
    "x = np.array([\n",
    "    [1,   2,  3,  4],\n",
    "    [5,   6,  7,  8],\n",
    "    [9,  10, 11, 12],\n",
    "    [13, 14, 15, 16]\n",
    "])\n",
    "\n",
    "print(f'original:\\n {x}')\n",
    "\n",
    "print(f'add 5 the each elements:\\n {x+5}')"
   ]
  },
  {
   "cell_type": "markdown",
   "metadata": {},
   "source": [
    "![purple-divider](https://user-images.githubusercontent.com/7065401/52071927-c1cd7100-2562-11e9-908a-dde91ba14e59.png)\n",
    "\n",
    "## Boolean arrays _(also called masks)_\n"
   ]
  },
  {
   "cell_type": "markdown",
   "metadata": {},
   "source": [
    "<div>\n",
    "    <p>Basic logic operators numpy</p>\n",
    "</div>\n",
    "<table style=\"width:100%; border: 1px solid black; border-collapse: collapse;\">\n",
    "    <tr>\n",
    "        <th style=\"text-align: center; border: 1px solid black; padding: 8px;\">Operator</th>\n",
    "        <th style=\"text-align: center; border: 1px solid black; padding: 8px;\">Function Numpy</th>\n",
    "        <th style=\"text-align: center; border: 1px solid black; padding: 8px;\">Symbols Python</th>\n",
    "        <th style=\"text-align: center; border: 1px solid black; padding: 8px;\">Example with Mask</th>\n",
    "    </tr>\n",
    "    <tr>\n",
    "        <td style=\"text-align: center; border: 1px solid black; padding: 8px;\">AND</td>\n",
    "        <td style=\"text-align: center; border: 1px solid black; padding: 8px;\">np.logical_and()</td>\n",
    "        <td style=\"text-align: center; border: 1px solid black; padding: 8px;\">&</td>\n",
    "        <td style=\"text-align: center; border: 1px solid black; padding: 8px;\">(arr > 2) & (arr < 5)</td>\n",
    "    </tr>\n",
    "    <tr>\n",
    "        <td style=\"text-align: center; border: 1px solid black; padding: 8px;\">OR</td>\n",
    "        <td style=\"text-align: center; border: 1px solid black; padding: 8px;\">np.logical_or()</td>\n",
    "        <td style=\"text-align: center; border: 1px solid black; padding: 8px;\">|</td>\n",
    "        <td style=\"text-align: center; border: 1px solid black; padding: 8px;\">(arr == 3) | (arr == 5)</td>\n",
    "    </tr>\n",
    "    <tr>\n",
    "        <td style=\"text-align: center; border: 1px solid black; padding: 8px;\">NOT</td>\n",
    "        <td style=\"text-align: center; border: 1px solid black; padding: 8px;\">np.logical_not()</td>\n",
    "        <td style=\"text-align: center; border: 1px solid black; padding: 8px;\">~</td>\n",
    "        <td style=\"text-align: center; border: 1px solid black; padding: 8px;\">~(arr == 0)</td>\n",
    "    </tr>\n",
    "    <tr>\n",
    "        <td style=\"text-align: center; border: 1px solid black; padding: 8px;\">XOR</td>\n",
    "        <td style=\"text-align: center; border: 1px solid black; padding: 8px;\">np.logical_xor()</td>\n",
    "        <td style=\"text-align: center; border: 1px solid black; padding: 8px;\">-</td>\n",
    "        <td style=\"text-align: center; border: 1px solid black; padding: 8px;\">np.logical_xor(arr > 1, arr < 4)</td>\n",
    "    </tr>\n",
    "</table>"
   ]
  },
  {
   "cell_type": "markdown",
   "metadata": {},
   "source": [
    "### Given the X numpy array, make a mask showing negative elements"
   ]
  },
  {
   "cell_type": "code",
   "execution_count": 32,
   "metadata": {},
   "outputs": [
    {
     "name": "stdout",
     "output_type": "stream",
     "text": [
      "array:\n",
      "[-1  2  0 -4  5  6  0  0 -9 10]\n",
      "mask negative elements:\n",
      "[ True False False  True False False False False  True False]\n"
     ]
    }
   ],
   "source": [
    "# your code goes here\n",
    "x = np.array([-1,2,0,-4,5,6,0,0,-9,10])\n",
    "print(f\"array:\\n{x}\")\n",
    "mask_array = x < 0\n",
    "print(f\"mask negative elements:\\n{mask_array}\")"
   ]
  },
  {
   "cell_type": "markdown",
   "metadata": {},
   "source": [
    "![green-divider](https://user-images.githubusercontent.com/7065401/52071924-c003ad80-2562-11e9-8297-1c6595f8a7ff.png)\n",
    "\n",
    "### Given the X numpy array, get the negative elements"
   ]
  },
  {
   "cell_type": "code",
   "execution_count": 33,
   "metadata": {},
   "outputs": [
    {
     "name": "stdout",
     "output_type": "stream",
     "text": [
      "array:\n",
      "[-1  2  0 -4  5  6  0  0 -9 10]\n",
      "negative elements with mask:\n",
      "[-1 -4 -9]\n",
      "negative elements with indexs:\n",
      "[-1 -4 -9]\n"
     ]
    }
   ],
   "source": [
    "# your code goes here\n",
    "x = np.array([-1,2,0,-4,5,6,0,0,-9,10])\n",
    "print(f\"array:\\n{x}\")\n",
    "mask_array = x < 0\n",
    "print(f\"negative elements with mask:\\n{x[mask_array]}\")\n",
    "indexs = np.where(x < 0)\n",
    "print(f\"negative elements with indexs:\\n{x[indexs]}\")"
   ]
  },
  {
   "cell_type": "markdown",
   "metadata": {},
   "source": [
    "![green-divider](https://user-images.githubusercontent.com/7065401/52071924-c003ad80-2562-11e9-8297-1c6595f8a7ff.png)\n",
    "\n",
    "### Given the X numpy array, get numbers higher than 5"
   ]
  },
  {
   "cell_type": "code",
   "execution_count": 34,
   "metadata": {},
   "outputs": [
    {
     "name": "stdout",
     "output_type": "stream",
     "text": [
      "array:\n",
      "[-1  2  0 -4  5  6  0  0 -9 10]\n",
      "elements with mask:\n",
      "[ 6 10]\n",
      "elements with indexs:\n",
      "[ 6 10]\n"
     ]
    }
   ],
   "source": [
    "# your code goes here\n",
    "x = np.array([-1,2,0,-4,5,6,0,0,-9,10])\n",
    "print(f\"array:\\n{x}\")\n",
    "mask_array = x > 5\n",
    "print(f\"elements with mask:\\n{x[mask_array]}\")\n",
    "indexs = np.where(x > 5)\n",
    "print(f\"elements with indexs:\\n{x[indexs]}\")"
   ]
  },
  {
   "cell_type": "markdown",
   "metadata": {},
   "source": [
    "![green-divider](https://user-images.githubusercontent.com/7065401/52071924-c003ad80-2562-11e9-8297-1c6595f8a7ff.png)\n",
    "\n",
    "### Given the X numpy array, get numbers higher than the elements mean"
   ]
  },
  {
   "cell_type": "code",
   "execution_count": 35,
   "metadata": {},
   "outputs": [
    {
     "name": "stdout",
     "output_type": "stream",
     "text": [
      "array:\n",
      "[-1  2  0 -4  5  6  0  0 -9 10]\n",
      "elements with np.median() (0.0):\n",
      "[ 2  5  6 10]\n",
      "elements with mean() (0.9):\n",
      "[ 2  5  6 10]\n"
     ]
    }
   ],
   "source": [
    "# your code goes here\n",
    "x = np.array([-1,2,0,-4,5,6,0,0,-9,10])\n",
    "print(f\"array:\\n{x}\")\n",
    "median = np.median(x)\n",
    "mask_array = x > median\n",
    "print(f\"elements with np.median() ({median}):\\n{x[mask_array]}\")\n",
    "mask_array = x > x.mean()\n",
    "print(f\"elements with mean() ({x.mean()}):\\n{x[mask_array]}\")"
   ]
  },
  {
   "cell_type": "markdown",
   "metadata": {},
   "source": [
    "![green-divider](https://user-images.githubusercontent.com/7065401/52071924-c003ad80-2562-11e9-8297-1c6595f8a7ff.png)\n",
    "\n",
    "### Given the X numpy array, get numbers equal to 2 or 10"
   ]
  },
  {
   "cell_type": "code",
   "execution_count": 39,
   "metadata": {},
   "outputs": [
    {
     "name": "stdout",
     "output_type": "stream",
     "text": [
      "array:\n",
      "[-1  2  0 -4  5  6  0  0 -9 10]\n",
      "mask:\n",
      "[False  True False False False False False False False  True]\n",
      "elements with logical operators:\n",
      "[ 2 10]\n"
     ]
    }
   ],
   "source": [
    "# your code goes here\n",
    "x = np.array([-1,2,0,-4,5,6,0,0,-9,10])\n",
    "print(f\"array:\\n{x}\")\n",
    "mask_array = (x == 2) | (x == 10)\n",
    "print(f\"mask:\\n{mask_array}\")\n",
    "print(f\"elements with logical operators:\\n{x[mask_array]}\")"
   ]
  },
  {
   "cell_type": "markdown",
   "metadata": {},
   "source": [
    "![purple-divider](https://user-images.githubusercontent.com/7065401/52071927-c1cd7100-2562-11e9-908a-dde91ba14e59.png)\n",
    "\n",
    "## Logic functions\n"
   ]
  },
  {
   "cell_type": "markdown",
   "metadata": {},
   "source": [
    "### Given the X numpy array, return True if none of its elements is zero"
   ]
  },
  {
   "cell_type": "code",
   "execution_count": 50,
   "metadata": {},
   "outputs": [
    {
     "name": "stdout",
     "output_type": "stream",
     "text": [
      "array with zeros:\n",
      "[-1  2  0 -4  5  6  0  0 -9 10]\n",
      "are all elements non-zero?:\n",
      "False\n",
      "---------------\n",
      "array without zeros:\n",
      "[-1  2  8 -4  5  6  8  8 -9 10]\n",
      "are all elements non-zero?:\n",
      "True\n"
     ]
    }
   ],
   "source": [
    "# your code goes here\n",
    "x = np.array([-1,2,0,-4,5,6,0,0,-9,10])\n",
    "print(f\"array with zeros:\\n{x}\")\n",
    "print(f\"are all elements non-zero?:\\n{np.all(x != 0)}\")\n",
    "\n",
    "print(\"---------------\")\n",
    "# changing values ​​from zeros to eights for testing\n",
    "mask = x == 0\n",
    "x[mask] = 8\n",
    "print(f\"array without zeros:\\n{x}\")\n",
    "print(f\"are all elements non-zero?:\\n{np.all(x != 0)}\")"
   ]
  },
  {
   "cell_type": "markdown",
   "metadata": {},
   "source": [
    "![green-divider](https://user-images.githubusercontent.com/7065401/52071924-c003ad80-2562-11e9-8297-1c6595f8a7ff.png)\n",
    "\n",
    "### Given the X numpy array, return True if any of its elements is zero"
   ]
  },
  {
   "cell_type": "code",
   "execution_count": 52,
   "metadata": {},
   "outputs": [
    {
     "name": "stdout",
     "output_type": "stream",
     "text": [
      "array with zeros:\n",
      "[-1  2  0 -4  5  6  0  0 -9 10]\n",
      "contains elements in zero?:\n",
      "True\n",
      "---------------\n",
      "array without zeros:\n",
      "[-1  2  8 -4  5  6  8  8 -9 10]\n",
      "contains elements in zero:\n",
      "False\n"
     ]
    }
   ],
   "source": [
    "# your code goes here\n",
    "# your code goes here\n",
    "x = np.array([-1,2,0,-4,5,6,0,0,-9,10])\n",
    "print(f\"array with zeros:\\n{x}\")\n",
    "print(f\"contains elements in zero?:\\n{np.any(x == 0)}\")\n",
    "\n",
    "print(\"---------------\")\n",
    "# changing values ​​from zeros to eights for testing\n",
    "mask = x == 0\n",
    "x[mask] = 8\n",
    "print(f\"array without zeros:\\n{x}\")\n",
    "print(f\"contains elements in zero:\\n{np.any(x == 0)}\")"
   ]
  },
  {
   "cell_type": "markdown",
   "metadata": {},
   "source": [
    "![purple-divider](https://user-images.githubusercontent.com/7065401/52071927-c1cd7100-2562-11e9-908a-dde91ba14e59.png)\n",
    "\n",
    "## Summary statistics"
   ]
  },
  {
   "cell_type": "markdown",
   "metadata": {},
   "source": [
    "### Given the X numpy array, show the sum of its elements"
   ]
  },
  {
   "cell_type": "code",
   "execution_count": 55,
   "metadata": {},
   "outputs": [
    {
     "name": "stdout",
     "output_type": "stream",
     "text": [
      "Sum: 43\n",
      "Sum np.sum: 43\n"
     ]
    }
   ],
   "source": [
    "# your code goes here\n",
    "x = np.array([3, 5, 6, 7, 2, 3, 4, 9, 4])\n",
    "print(f\"Sum: {x.sum()}\")\n",
    "print(f\"Sum np.sum: {np.sum(x)}\")"
   ]
  },
  {
   "cell_type": "markdown",
   "metadata": {},
   "source": [
    "![green-divider](https://user-images.githubusercontent.com/7065401/52071924-c003ad80-2562-11e9-8297-1c6595f8a7ff.png)\n",
    "\n",
    "### Given the X numpy array, show the mean value of its elements"
   ]
  },
  {
   "cell_type": "code",
   "execution_count": 60,
   "metadata": {},
   "outputs": [
    {
     "name": "stdout",
     "output_type": "stream",
     "text": [
      "Sum: 43\n",
      "n: 9\n",
      "mean (calculate): 4.777777777777778\n",
      "mean (np.mean): 4.777777777777778\n"
     ]
    }
   ],
   "source": [
    "# your code goes here\n",
    "x = np.array([3, 5, 6, 7, 2, 3, 4, 9, 4])\n",
    "print(f\"Sum: {x.sum()}\")\n",
    "print(f\"n: {x.shape[0]}\")\n",
    "print(f\"mean (calculate): {np.sum(x)/x.shape[0]}\")\n",
    "print(f\"mean (np.mean): {x.mean()}\")"
   ]
  },
  {
   "cell_type": "markdown",
   "metadata": {},
   "source": [
    "![green-divider](https://user-images.githubusercontent.com/7065401/52071924-c003ad80-2562-11e9-8297-1c6595f8a7ff.png)\n",
    "\n",
    "### Given the X numpy matrix, show the sum of its columns"
   ]
  },
  {
   "cell_type": "code",
   "execution_count": 64,
   "metadata": {},
   "outputs": [
    {
     "name": "stdout",
     "output_type": "stream",
     "text": [
      "matrix:\n",
      "[[ 1  2  3  4]\n",
      " [ 5  6  7  8]\n",
      " [ 9 10 11 12]\n",
      " [13 14 15 16]]\n",
      "Sum of its columns (axis=0): [28 32 36 40]\n"
     ]
    }
   ],
   "source": [
    "# your code goes here\n",
    "x = np.array([\n",
    "    [1,   2,  3,  4],\n",
    "    [5,   6,  7,  8],\n",
    "    [9,  10, 11, 12],\n",
    "    [13, 14, 15, 16]\n",
    "])\n",
    "print(f\"matrix:\\n{x}\")\n",
    "print(f\"Sum of its columns (axis=0): {x.sum(axis=0)}\")"
   ]
  },
  {
   "cell_type": "markdown",
   "metadata": {},
   "source": [
    "![green-divider](https://user-images.githubusercontent.com/7065401/52071924-c003ad80-2562-11e9-8297-1c6595f8a7ff.png)\n",
    "\n",
    "### Given the X numpy matrix, show the mean value of its rows"
   ]
  },
  {
   "cell_type": "code",
   "execution_count": 67,
   "metadata": {},
   "outputs": [
    {
     "name": "stdout",
     "output_type": "stream",
     "text": [
      "matrix:\n",
      "[[ 1  2  3  4]\n",
      " [ 5  6  7  8]\n",
      " [ 9 10 11 12]\n",
      " [13 14 15 16]]\n",
      "sum of its columns (axis=1): [10 26 42 58]\n",
      "mean value of its rows (mean): [ 2.5  6.5 10.5 14.5]\n"
     ]
    }
   ],
   "source": [
    "# your code goes here\n",
    "x = np.array([\n",
    "    [1,   2,  3,  4],\n",
    "    [5,   6,  7,  8],\n",
    "    [9,  10, 11, 12],\n",
    "    [13, 14, 15, 16]\n",
    "])\n",
    "print(f\"matrix:\\n{x}\")\n",
    "print(f\"sum of its columns (axis=1): {x.sum(axis=1)}\")\n",
    "print(f\"mean value of its rows (mean): {x.mean(axis=1)}\")"
   ]
  },
  {
   "cell_type": "markdown",
   "metadata": {},
   "source": [
    "![green-divider](https://user-images.githubusercontent.com/7065401/52071924-c003ad80-2562-11e9-8297-1c6595f8a7ff.png)\n",
    "\n",
    "### Given the X numpy array, show the max value of its elements"
   ]
  },
  {
   "cell_type": "code",
   "execution_count": null,
   "metadata": {},
   "outputs": [
    {
     "name": "stdout",
     "output_type": "stream",
     "text": [
      "max value: 10\n",
      "1\n"
     ]
    }
   ],
   "source": [
    "# your code goes here\n",
    "x = np.array([1, 2, 0, 4, 5, 6, 0, 0, 9, 10])\n",
    "print(f\"max value: {x.max()}\")"
   ]
  },
  {
   "cell_type": "markdown",
   "metadata": {},
   "source": [
    "![purple-divider](https://user-images.githubusercontent.com/7065401/52071927-c1cd7100-2562-11e9-908a-dde91ba14e59.png)"
   ]
  },
  {
   "cell_type": "markdown",
   "metadata": {},
   "source": [
    "![green-divider](https://user-images.githubusercontent.com/7065401/52071924-c003ad80-2562-11e9-8297-1c6595f8a7ff.png)\n",
    "\n",
    "### Exercises taken from the video tutorials"
   ]
  },
  {
   "cell_type": "code",
   "execution_count": 6,
   "metadata": {},
   "outputs": [
    {
     "name": "stdout",
     "output_type": "stream",
     "text": [
      "[['a' 'b']\n",
      " ['d' 'e']\n",
      " ['g' 'h']]\n"
     ]
    }
   ],
   "source": [
    "A = np.array([\n",
    "    ['a', 'b', 'c'],\n",
    "    ['d', 'e', 'f'],\n",
    "    ['g', 'h', 'i']\n",
    "])\n",
    "\n",
    "print(A[:,:2])"
   ]
  },
  {
   "cell_type": "code",
   "execution_count": 63,
   "metadata": {},
   "outputs": [
    {
     "name": "stdout",
     "output_type": "stream",
     "text": [
      "CPU times: total: 0 ns\n",
      "Wall time: 1.01 ms\n"
     ]
    },
    {
     "data": {
      "text/plain": [
       "np.int64(333283335000)"
      ]
     },
     "execution_count": 63,
     "metadata": {},
     "output_type": "execute_result"
    }
   ],
   "source": [
    "a = np.arange(10000)\n",
    "%time np.sum(a ** 2)"
   ]
  },
  {
   "cell_type": "code",
   "execution_count": 59,
   "metadata": {},
   "outputs": [
    {
     "name": "stdout",
     "output_type": "stream",
     "text": [
      "CPU times: total: 15.6 ms\n",
      "Wall time: 995 μs\n"
     ]
    },
    {
     "data": {
      "text/plain": [
       "333283335000"
      ]
     },
     "execution_count": 59,
     "metadata": {},
     "output_type": "execute_result"
    }
   ],
   "source": [
    "l = list(range(10000))\n",
    "%time sum([x ** 2 for x in l])"
   ]
  }
 ],
 "metadata": {
  "kernelspec": {
   "display_name": "env",
   "language": "python",
   "name": "python3"
  },
  "language_info": {
   "codemirror_mode": {
    "name": "ipython",
    "version": 3
   },
   "file_extension": ".py",
   "mimetype": "text/x-python",
   "name": "python",
   "nbconvert_exporter": "python",
   "pygments_lexer": "ipython3",
   "version": "3.11.9"
  }
 },
 "nbformat": 4,
 "nbformat_minor": 4
}
