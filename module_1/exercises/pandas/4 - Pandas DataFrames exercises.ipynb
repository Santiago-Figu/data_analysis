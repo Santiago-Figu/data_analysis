{
 "cells": [
  {
   "cell_type": "markdown",
   "metadata": {},
   "source": [
    "![rmotr](https://user-images.githubusercontent.com/7065401/52071918-bda15380-2562-11e9-828c-7f95297e4a82.png)\n",
    "<hr style=\"margin-bottom: 40px;\">\n",
    "\n",
    "# Pandas DataFrame exercises\n"
   ]
  },
  {
   "cell_type": "code",
   "execution_count": 6,
   "metadata": {},
   "outputs": [
    {
     "name": "stdout",
     "output_type": "stream",
     "text": [
      "2.2.3\n"
     ]
    }
   ],
   "source": [
    "# Import the numpy package under the name np\n",
    "import numpy as np\n",
    "\n",
    "# Import the pandas package under the name pd\n",
    "import pandas as pd\n",
    "\n",
    "# Import the matplotlib package under the name plt\n",
    "import matplotlib.pyplot as plt\n",
    "%matplotlib inline\n",
    "\n",
    "# Print the pandas version and the configuration\n",
    "print(pd.__version__)"
   ]
  },
  {
   "cell_type": "markdown",
   "metadata": {},
   "source": [
    "![purple-divider](https://user-images.githubusercontent.com/7065401/52071927-c1cd7100-2562-11e9-908a-dde91ba14e59.png)\n",
    "\n",
    "## DataFrame creation"
   ]
  },
  {
   "cell_type": "markdown",
   "metadata": {},
   "source": [
    "### Create an empty pandas DataFrame\n"
   ]
  },
  {
   "cell_type": "code",
   "execution_count": 7,
   "metadata": {},
   "outputs": [
    {
     "name": "stdout",
     "output_type": "stream",
     "text": [
      "empty DataFrame:\n",
      "      None\n",
      "None  None\n"
     ]
    }
   ],
   "source": [
    "# your code goes here\n",
    "data_frame = pd.DataFrame(data=[None],\n",
    "             index=[None],\n",
    "             columns=[None])\n",
    "print(f\"empty DataFrame:\\n{data_frame}\")"
   ]
  },
  {
   "cell_type": "markdown",
   "metadata": {},
   "source": [
    "<img width=400 src=\"https://cdn.dribbble.com/users/4678/screenshots/1986600/avengers.png\"></img>"
   ]
  },
  {
   "cell_type": "markdown",
   "metadata": {},
   "source": [
    "![green-divider](https://user-images.githubusercontent.com/7065401/52071924-c003ad80-2562-11e9-8297-1c6595f8a7ff.png)\n",
    "\n",
    "### Create a `marvel_df` pandas DataFrame with the given marvel data\n"
   ]
  },
  {
   "cell_type": "code",
   "execution_count": 60,
   "metadata": {},
   "outputs": [],
   "source": [
    "marvel_data = [\n",
    "    ['Spider-Man', 'male', 1962],\n",
    "    ['Captain America', 'male', 1941],\n",
    "    ['Wolverine', 'male', 1974],\n",
    "    ['Iron Man', 'male', 1963],\n",
    "    ['Thor', 'male', 1963],\n",
    "    ['Thing', 'male', 1961],\n",
    "    ['Mister Fantastic', 'male', 1961],\n",
    "    ['Hulk', 'male', 1962],\n",
    "    ['Beast', 'male', 1963],\n",
    "    ['Invisible Woman', 'female', 1961],\n",
    "    ['Storm', 'female', 1975],\n",
    "    ['Namor', 'male', 1939],\n",
    "    ['Hawkeye', 'male', 1964],\n",
    "    ['Daredevil', 'male', 1964],\n",
    "    ['Doctor Strange', 'male', 1963],\n",
    "    ['Hank Pym', 'male', 1962],\n",
    "    ['Scarlet Witch', 'female', 1964],\n",
    "    ['Wasp', 'female', 1963],\n",
    "    ['Black Widow', 'female', 1964],\n",
    "    ['Vision', 'male', 1968]\n",
    "]"
   ]
  },
  {
   "cell_type": "code",
   "execution_count": 61,
   "metadata": {},
   "outputs": [
    {
     "name": "stdout",
     "output_type": "stream",
     "text": [
      "marvel_df:\n",
      "                   0       1     2\n",
      "0         Spider-Man    male  1962\n",
      "1    Captain America    male  1941\n",
      "2          Wolverine    male  1974\n",
      "3           Iron Man    male  1963\n",
      "4               Thor    male  1963\n",
      "5              Thing    male  1961\n",
      "6   Mister Fantastic    male  1961\n",
      "7               Hulk    male  1962\n",
      "8              Beast    male  1963\n",
      "9    Invisible Woman  female  1961\n",
      "10             Storm  female  1975\n",
      "11             Namor    male  1939\n",
      "12           Hawkeye    male  1964\n",
      "13         Daredevil    male  1964\n",
      "14    Doctor Strange    male  1963\n",
      "15          Hank Pym    male  1962\n",
      "16     Scarlet Witch  female  1964\n",
      "17              Wasp  female  1963\n",
      "18       Black Widow  female  1964\n",
      "19            Vision    male  1968\n"
     ]
    }
   ],
   "source": [
    "# your code goes here\n",
    "marvel_df = pd.DataFrame(data=marvel_data)\n",
    "print(f\"marvel_df:\\n{marvel_df}\")"
   ]
  },
  {
   "cell_type": "markdown",
   "metadata": {},
   "source": [
    "![green-divider](https://user-images.githubusercontent.com/7065401/52071924-c003ad80-2562-11e9-8297-1c6595f8a7ff.png)\n",
    "\n",
    "### Add column names to the `marvel_df`\n",
    " "
   ]
  },
  {
   "cell_type": "code",
   "execution_count": 62,
   "metadata": {},
   "outputs": [
    {
     "name": "stdout",
     "output_type": "stream",
     "text": [
      "marvel_df:\n",
      "                name     sex  first_appearance\n",
      "0         Spider-Man    male              1962\n",
      "1    Captain America    male              1941\n",
      "2          Wolverine    male              1974\n",
      "3           Iron Man    male              1963\n",
      "4               Thor    male              1963\n",
      "5              Thing    male              1961\n",
      "6   Mister Fantastic    male              1961\n",
      "7               Hulk    male              1962\n",
      "8              Beast    male              1963\n",
      "9    Invisible Woman  female              1961\n",
      "10             Storm  female              1975\n",
      "11             Namor    male              1939\n",
      "12           Hawkeye    male              1964\n",
      "13         Daredevil    male              1964\n",
      "14    Doctor Strange    male              1963\n",
      "15          Hank Pym    male              1962\n",
      "16     Scarlet Witch  female              1964\n",
      "17              Wasp  female              1963\n",
      "18       Black Widow  female              1964\n",
      "19            Vision    male              1968\n"
     ]
    }
   ],
   "source": [
    "# your code goes here\n",
    "marvel_df.columns = ['name', 'sex', 'first_appearance']\n",
    "print(f\"marvel_df:\\n{marvel_df}\")"
   ]
  },
  {
   "cell_type": "markdown",
   "metadata": {},
   "source": [
    "![green-divider](https://user-images.githubusercontent.com/7065401/52071924-c003ad80-2562-11e9-8297-1c6595f8a7ff.png)\n",
    "\n",
    "### Add index names to the `marvel_df` (use the character name as index)\n"
   ]
  },
  {
   "cell_type": "code",
   "execution_count": 63,
   "metadata": {},
   "outputs": [
    {
     "name": "stdout",
     "output_type": "stream",
     "text": [
      "by index\n",
      "                              name     sex  first_appearance\n",
      "name                                                        \n",
      "Spider-Man              Spider-Man    male              1962\n",
      "Captain America    Captain America    male              1941\n",
      "Wolverine                Wolverine    male              1974\n",
      "Iron Man                  Iron Man    male              1963\n",
      "Thor                          Thor    male              1963\n",
      "Thing                        Thing    male              1961\n",
      "Mister Fantastic  Mister Fantastic    male              1961\n",
      "Hulk                          Hulk    male              1962\n",
      "Beast                        Beast    male              1963\n",
      "Invisible Woman    Invisible Woman  female              1961\n",
      "Storm                        Storm  female              1975\n",
      "Namor                        Namor    male              1939\n",
      "Hawkeye                    Hawkeye    male              1964\n",
      "Daredevil                Daredevil    male              1964\n",
      "Doctor Strange      Doctor Strange    male              1963\n",
      "Hank Pym                  Hank Pym    male              1962\n",
      "Scarlet Witch        Scarlet Witch  female              1964\n",
      "Wasp                          Wasp  female              1963\n",
      "Black Widow            Black Widow  female              1964\n",
      "Vision                      Vision    male              1968\n"
     ]
    }
   ],
   "source": [
    "# your code goes here\n",
    "marvel_df.index = marvel_df['name']\n",
    "print(f\"by index\\n{marvel_df}\")"
   ]
  },
  {
   "cell_type": "code",
   "execution_count": 64,
   "metadata": {},
   "outputs": [
    {
     "name": "stdout",
     "output_type": "stream",
     "text": [
      "by set_index\n",
      "                              name     sex  first_appearance\n",
      "name                                                        \n",
      "Spider-Man              Spider-Man    male              1962\n",
      "Captain America    Captain America    male              1941\n",
      "Wolverine                Wolverine    male              1974\n",
      "Iron Man                  Iron Man    male              1963\n",
      "Thor                          Thor    male              1963\n",
      "Thing                        Thing    male              1961\n",
      "Mister Fantastic  Mister Fantastic    male              1961\n",
      "Hulk                          Hulk    male              1962\n",
      "Beast                        Beast    male              1963\n",
      "Invisible Woman    Invisible Woman  female              1961\n",
      "Storm                        Storm  female              1975\n",
      "Namor                        Namor    male              1939\n",
      "Hawkeye                    Hawkeye    male              1964\n",
      "Daredevil                Daredevil    male              1964\n",
      "Doctor Strange      Doctor Strange    male              1963\n",
      "Hank Pym                  Hank Pym    male              1962\n",
      "Scarlet Witch        Scarlet Witch  female              1964\n",
      "Wasp                          Wasp  female              1963\n",
      "Black Widow            Black Widow  female              1964\n",
      "Vision                      Vision    male              1968\n"
     ]
    }
   ],
   "source": [
    "# your code goes here\n",
    "marvel_df.set_index(keys='name')\n",
    "print(f\"by set_index\\n{marvel_df}\")"
   ]
  },
  {
   "cell_type": "markdown",
   "metadata": {},
   "source": [
    "![green-divider](https://user-images.githubusercontent.com/7065401/52071924-c003ad80-2562-11e9-8297-1c6595f8a7ff.png)\n",
    "\n",
    "### Drop the name column as it's now the index"
   ]
  },
  {
   "cell_type": "code",
   "execution_count": 65,
   "metadata": {},
   "outputs": [
    {
     "name": "stdout",
     "output_type": "stream",
     "text": [
      "marvel_df:\n",
      "                     sex  first_appearance\n",
      "name                                      \n",
      "Spider-Man          male              1962\n",
      "Captain America     male              1941\n",
      "Wolverine           male              1974\n",
      "Iron Man            male              1963\n",
      "Thor                male              1963\n",
      "Thing               male              1961\n",
      "Mister Fantastic    male              1961\n",
      "Hulk                male              1962\n",
      "Beast               male              1963\n",
      "Invisible Woman   female              1961\n",
      "Storm             female              1975\n",
      "Namor               male              1939\n",
      "Hawkeye             male              1964\n",
      "Daredevil           male              1964\n",
      "Doctor Strange      male              1963\n",
      "Hank Pym            male              1962\n",
      "Scarlet Witch     female              1964\n",
      "Wasp              female              1963\n",
      "Black Widow       female              1964\n",
      "Vision              male              1968\n"
     ]
    }
   ],
   "source": [
    "# your code goes here\n",
    "marvel_df = marvel_df.drop(columns=['name'], axis=1)\n",
    "print(f\"marvel_df:\\n{marvel_df}\")"
   ]
  },
  {
   "cell_type": "markdown",
   "metadata": {},
   "source": [
    "![green-divider](https://user-images.githubusercontent.com/7065401/52071924-c003ad80-2562-11e9-8297-1c6595f8a7ff.png)\n",
    "\n",
    "### Drop 'Namor' and 'Hank Pym' rows\n"
   ]
  },
  {
   "cell_type": "markdown",
   "metadata": {},
   "source": [
    "<div>\n",
    "    <p>Notes: Drop Method</p>\n",
    "</div>\n",
    "<table style=\"width:100%; border: 1px solid black; border-collapse: collapse;\">\n",
    "    <tr>\n",
    "        <th style=\"text-align: center; border: 1px solid black; padding: 8px;\">Parameter</th>\n",
    "        <th style=\"text-align: center; border: 1px solid black; padding: 8px;\">Action</th>\n",
    "        <th style=\"text-align: center; border: 1px solid black; padding: 8px;\">Example (drop)</th>\n",
    "        <th style=\"text-align: center; border: 1px solid black; padding: 8px;\">Alternative syntax</th>\n",
    "        <th style=\"text-align: center; border: 1px solid black; padding: 8px;\">Notes</th>\n",
    "    </tr>\n",
    "    <tr>\n",
    "        <td style=\"text-align: center; border: 1px solid black; padding: 8px;\">axis=0</td>\n",
    "        <td style=\"text-align: center; border: 1px solid black; padding: 8px;\">Delete rows (by index)</td>\n",
    "        <td style=\"text-align: center; border: 1px solid black; padding: 8px;\">df.drop('row1')</td>\n",
    "        <td style=\"text-align: center; border: 1px solid black; padding: 8px;\">df.drop(index='row1')</td>\n",
    "        <td style=\"text-align: center; border: 1px solid black; padding: 8px;\">You don't need to set axis=0, by default it assumes you want to delete rows</td>\n",
    "    </tr>\n",
    "     <tr>\n",
    "        <td style=\"text-align: center; border: 1px solid black; padding: 8px;\">axis=1</td>\n",
    "        <td style=\"text-align: center; border: 1px solid black; padding: 8px;\">Delete columns (by name)</td>\n",
    "        <td style=\"text-align: center; border: 1px solid black; padding: 8px;\">df.drop('column_name', axis=1)</td>\n",
    "        <td style=\"text-align: center; border: 1px solid black; padding: 8px;\">df.drop(columns='column_name')</td>\n",
    "    </tr>\n",
    "</table>"
   ]
  },
  {
   "cell_type": "code",
   "execution_count": 66,
   "metadata": {},
   "outputs": [
    {
     "name": "stdout",
     "output_type": "stream",
     "text": [
      "marvel_df:\n",
      "                     sex  first_appearance\n",
      "name                                      \n",
      "Spider-Man          male              1962\n",
      "Captain America     male              1941\n",
      "Wolverine           male              1974\n",
      "Iron Man            male              1963\n",
      "Thor                male              1963\n",
      "Thing               male              1961\n",
      "Mister Fantastic    male              1961\n",
      "Hulk                male              1962\n",
      "Beast               male              1963\n",
      "Invisible Woman   female              1961\n",
      "Storm             female              1975\n",
      "Hawkeye             male              1964\n",
      "Daredevil           male              1964\n",
      "Doctor Strange      male              1963\n",
      "Scarlet Witch     female              1964\n",
      "Wasp              female              1963\n",
      "Black Widow       female              1964\n",
      "Vision              male              1968\n"
     ]
    }
   ],
   "source": [
    "# your code goes here\n",
    "try:\n",
    "    marvel_df = marvel_df.drop(index=['Namor','Hank Pym'])\n",
    "    print(f\"marvel_df:\\n{marvel_df}\")\n",
    "except Exception as e:\n",
    "    print(\"No existe la fila a eliminar\")"
   ]
  },
  {
   "cell_type": "markdown",
   "metadata": {},
   "source": [
    "![purple-divider](https://user-images.githubusercontent.com/7065401/52071927-c1cd7100-2562-11e9-908a-dde91ba14e59.png)\n",
    "\n",
    "## DataFrame selection, slicing and indexation"
   ]
  },
  {
   "cell_type": "markdown",
   "metadata": {},
   "source": [
    "### Show the first 5 elements on `marvel_df`\n",
    " "
   ]
  },
  {
   "cell_type": "code",
   "execution_count": 67,
   "metadata": {},
   "outputs": [
    {
     "name": "stdout",
     "output_type": "stream",
     "text": [
      "by index:\n",
      "                  sex  first_appearance\n",
      "name                                   \n",
      "Spider-Man       male              1962\n",
      "Captain America  male              1941\n",
      "Wolverine        male              1974\n",
      "Iron Man         male              1963\n",
      "Thor             male              1963\n",
      "\n",
      "by head:\n",
      "                  sex  first_appearance\n",
      "name                                   \n",
      "Spider-Man       male              1962\n",
      "Captain America  male              1941\n",
      "Wolverine        male              1974\n",
      "Iron Man         male              1963\n",
      "Thor             male              1963\n"
     ]
    }
   ],
   "source": [
    "# your code goes here\n",
    "print(f\"by index:\\n{marvel_df.iloc[:5]}\")\n",
    "print(f\"\\nby head:\\n{marvel_df.head(5)}\")"
   ]
  },
  {
   "cell_type": "markdown",
   "metadata": {},
   "source": [
    "![green-divider](https://user-images.githubusercontent.com/7065401/52071924-c003ad80-2562-11e9-8297-1c6595f8a7ff.png)\n",
    "\n",
    "### Show the last 5 elements on `marvel_df`\n"
   ]
  },
  {
   "cell_type": "code",
   "execution_count": 68,
   "metadata": {},
   "outputs": [
    {
     "name": "stdout",
     "output_type": "stream",
     "text": [
      "by index:\n",
      "                   sex  first_appearance\n",
      "name                                    \n",
      "Doctor Strange    male              1963\n",
      "Scarlet Witch   female              1964\n",
      "Wasp            female              1963\n",
      "Black Widow     female              1964\n",
      "Vision            male              1968\n",
      "by tail:\n",
      "                   sex  first_appearance\n",
      "name                                    \n",
      "Doctor Strange    male              1963\n",
      "Scarlet Witch   female              1964\n",
      "Wasp            female              1963\n",
      "Black Widow     female              1964\n",
      "Vision            male              1968\n"
     ]
    }
   ],
   "source": [
    "# your code goes here\n",
    "print(f\"by index:\\n{marvel_df.iloc[-5:]}\")\n",
    "print(f\"by tail:\\n{marvel_df.tail(5)}\")"
   ]
  },
  {
   "cell_type": "markdown",
   "metadata": {},
   "source": [
    "![green-divider](https://user-images.githubusercontent.com/7065401/52071924-c003ad80-2562-11e9-8297-1c6595f8a7ff.png)\n",
    "\n",
    "### Show just the sex of the first 5 elements on `marvel_df`"
   ]
  },
  {
   "cell_type": "code",
   "execution_count": 69,
   "metadata": {},
   "outputs": [
    {
     "name": "stdout",
     "output_type": "stream",
     "text": [
      "by index:\n",
      "name\n",
      "Spider-Man         male\n",
      "Captain America    male\n",
      "Wolverine          male\n",
      "Iron Man           male\n",
      "Thor               male\n",
      "Name: sex, dtype: object\n",
      "\n",
      "by column name:\n",
      "name\n",
      "Spider-Man         male\n",
      "Captain America    male\n",
      "Wolverine          male\n",
      "Iron Man           male\n",
      "Thor               male\n",
      "Name: sex, dtype: object\n",
      "\n",
      "by head:\n",
      "name\n",
      "Spider-Man         male\n",
      "Captain America    male\n",
      "Wolverine          male\n",
      "Iron Man           male\n",
      "Thor               male\n",
      "Name: sex, dtype: object\n",
      "\n",
      "by sex.to_frame:\n",
      "                  sex\n",
      "name                 \n",
      "Spider-Man       male\n",
      "Captain America  male\n",
      "Wolverine        male\n",
      "Iron Man         male\n",
      "Thor             male\n",
      "\n",
      "by sex.to_frame.head:\n",
      "                  sex\n",
      "name                 \n",
      "Spider-Man       male\n",
      "Captain America  male\n",
      "Wolverine        male\n",
      "Iron Man         male\n",
      "Thor             male\n"
     ]
    }
   ],
   "source": [
    "# your code goes here\n",
    "print(f\"by index:\\n{marvel_df.iloc[:5]['sex']}\")\n",
    "print(f\"\\nby column name:\\n{marvel_df['sex'][:5]}\")\n",
    "print(f\"\\nby head:\\n{marvel_df.head(5)['sex']}\")\n",
    "print(f\"\\nby sex.to_frame:\\n{marvel_df.sex.to_frame()[:5]}\")\n",
    "print(f\"\\nby sex.to_frame.head:\\n{marvel_df.sex.to_frame().head(5)}\")"
   ]
  },
  {
   "cell_type": "markdown",
   "metadata": {},
   "source": [
    "![green-divider](https://user-images.githubusercontent.com/7065401/52071924-c003ad80-2562-11e9-8297-1c6595f8a7ff.png)\n",
    "\n",
    "### Show the first_appearance of all middle elements on `marvel_df` "
   ]
  },
  {
   "cell_type": "code",
   "execution_count": 70,
   "metadata": {},
   "outputs": [
    {
     "name": "stdout",
     "output_type": "stream",
     "text": [
      "\n",
      "by index:\n",
      "name\n",
      "Captain America     1941\n",
      "Wolverine           1974\n",
      "Iron Man            1963\n",
      "Thor                1963\n",
      "Thing               1961\n",
      "Mister Fantastic    1961\n",
      "Hulk                1962\n",
      "Beast               1963\n",
      "Invisible Woman     1961\n",
      "Storm               1975\n",
      "Hawkeye             1964\n",
      "Daredevil           1964\n",
      "Doctor Strange      1963\n",
      "Scarlet Witch       1964\n",
      "Wasp                1963\n",
      "Black Widow         1964\n",
      "Name: first_appearance, dtype: int64\n",
      "\n",
      "by first_appearance.to_frame.head:\n",
      "                  first_appearance\n",
      "name                              \n",
      "Captain America               1941\n",
      "Wolverine                     1974\n",
      "Iron Man                      1963\n",
      "Thor                          1963\n",
      "Thing                         1961\n",
      "Mister Fantastic              1961\n",
      "Hulk                          1962\n",
      "Beast                         1963\n",
      "Invisible Woman               1961\n",
      "Storm                         1975\n",
      "Hawkeye                       1964\n",
      "Daredevil                     1964\n",
      "Doctor Strange                1963\n",
      "Scarlet Witch                 1964\n",
      "Wasp                          1963\n",
      "Black Widow                   1964\n"
     ]
    }
   ],
   "source": [
    "# your code goes here\n",
    "print(f\"\\nby index:\\n{marvel_df.iloc[1:-1]['first_appearance']}\")\n",
    "print(f\"\\nby first_appearance.to_frame.head:\\n{marvel_df.iloc[1:-1].first_appearance.to_frame()}\")\n"
   ]
  },
  {
   "cell_type": "markdown",
   "metadata": {},
   "source": [
    "![green-divider](https://user-images.githubusercontent.com/7065401/52071924-c003ad80-2562-11e9-8297-1c6595f8a7ff.png)\n",
    "\n",
    "### Show the first and last elements on `marvel_df`\n"
   ]
  },
  {
   "cell_type": "code",
   "execution_count": 71,
   "metadata": {},
   "outputs": [
    {
     "name": "stdout",
     "output_type": "stream",
     "text": [
      "\n",
      "by index:\n",
      "             sex  first_appearance\n",
      "name                              \n",
      "Spider-Man  male              1962\n",
      "Vision      male              1968\n"
     ]
    }
   ],
   "source": [
    "# your code goes here\n",
    "print(f\"\\nby index:\\n{marvel_df.iloc[[0,-1]]}\")"
   ]
  },
  {
   "cell_type": "markdown",
   "metadata": {},
   "source": [
    "![purple-divider](https://user-images.githubusercontent.com/7065401/52071927-c1cd7100-2562-11e9-908a-dde91ba14e59.png)\n",
    "\n",
    "## DataFrame manipulation and operations"
   ]
  },
  {
   "cell_type": "markdown",
   "metadata": {},
   "source": [
    "### Modify the `first_appearance` of 'Vision' to year 1964"
   ]
  },
  {
   "cell_type": "code",
   "execution_count": null,
   "metadata": {},
   "outputs": [
    {
     "name": "stdout",
     "output_type": "stream",
     "text": [
      "\n",
      "first_appearance vision:\n",
      "1968\n",
      "\n",
      "first_appearance vision:\n",
      "1964\n"
     ]
    }
   ],
   "source": [
    "# your code goes here\n",
    "print(f\"\\nfirst_appearance vision:{marvel_df.loc['Vision'].first_appearance}\")\n",
    "marvel_df.loc['Vision','first_appearance'] = 1964\n",
    "print(f\"\\nfirst_appearance vision:{marvel_df.loc['Vision'].first_appearance}\")"
   ]
  },
  {
   "cell_type": "markdown",
   "metadata": {},
   "source": [
    "![green-divider](https://user-images.githubusercontent.com/7065401/52071924-c003ad80-2562-11e9-8297-1c6595f8a7ff.png)\n",
    "\n",
    "### Add a new column to `marvel_df` called 'years_since' with the years since `first_appearance`\n"
   ]
  },
  {
   "cell_type": "code",
   "execution_count": 93,
   "metadata": {},
   "outputs": [
    {
     "name": "stdout",
     "output_type": "stream",
     "text": [
      "\n",
      "marvel_df:\n",
      "                     sex  first_appearance  years_since\n",
      "name                                                   \n",
      "Spider-Man          male              1962           63\n",
      "Captain America     male              1941           84\n",
      "Wolverine           male              1974           51\n",
      "Iron Man            male              1963           62\n",
      "Thor                male              1963           62\n",
      "Thing               male              1961           64\n",
      "Mister Fantastic    male              1961           64\n",
      "Hulk                male              1962           63\n",
      "Beast               male              1963           62\n",
      "Invisible Woman   female              1961           64\n",
      "Storm             female              1975           50\n",
      "Hawkeye             male              1964           61\n",
      "Daredevil           male              1964           61\n",
      "Doctor Strange      male              1963           62\n",
      "Scarlet Witch     female              1964           61\n",
      "Wasp              female              1963           62\n",
      "Black Widow       female              1964           61\n",
      "Vision              male              1964           61\n"
     ]
    }
   ],
   "source": [
    "# your code goes here\n",
    "from datetime import datetime\n",
    "marvel_df['years_since'] = datetime.now().year-marvel_df['first_appearance']\n",
    "print(f\"\\nmarvel_df:\\n{marvel_df}\")"
   ]
  },
  {
   "cell_type": "markdown",
   "metadata": {},
   "source": [
    "![purple-divider](https://user-images.githubusercontent.com/7065401/52071927-c1cd7100-2562-11e9-908a-dde91ba14e59.png)\n",
    "\n",
    "## DataFrame boolean arrays (also called masks)"
   ]
  },
  {
   "cell_type": "markdown",
   "metadata": {},
   "source": [
    "### Given the `marvel_df` pandas DataFrame, make a mask showing the female characters\n"
   ]
  },
  {
   "cell_type": "code",
   "execution_count": 111,
   "metadata": {},
   "outputs": [
    {
     "name": "stdout",
     "output_type": "stream",
     "text": [
      "name\n",
      "Spider-Man          False\n",
      "Captain America     False\n",
      "Wolverine           False\n",
      "Iron Man            False\n",
      "Thor                False\n",
      "Thing               False\n",
      "Mister Fantastic    False\n",
      "Hulk                False\n",
      "Beast               False\n",
      "Invisible Woman      True\n",
      "Storm                True\n",
      "Hawkeye             False\n",
      "Daredevil           False\n",
      "Doctor Strange      False\n",
      "Scarlet Witch        True\n",
      "Wasp                 True\n",
      "Black Widow          True\n",
      "Vision              False\n",
      "Name: sex, dtype: bool\n",
      "female characters:\n",
      "                    sex  first_appearance  years_since\n",
      "name                                                  \n",
      "Invisible Woman  female              1961           64\n",
      "Storm            female              1975           50\n",
      "Scarlet Witch    female              1964           61\n",
      "Wasp             female              1963           62\n",
      "Black Widow      female              1964           61\n"
     ]
    }
   ],
   "source": [
    "# your code goes here\n",
    "mask = marvel_df.sex == 'female'\n",
    "print(f\"{mask}\")\n",
    "print(f\"female characters:\\n{marvel_df[mask]}\")"
   ]
  },
  {
   "cell_type": "markdown",
   "metadata": {},
   "source": [
    "![green-divider](https://user-images.githubusercontent.com/7065401/52071924-c003ad80-2562-11e9-8297-1c6595f8a7ff.png)\n",
    "\n",
    "### Given the `marvel_df` pandas DataFrame, get the male characters\n"
   ]
  },
  {
   "cell_type": "code",
   "execution_count": null,
   "metadata": {},
   "outputs": [
    {
     "name": "stdout",
     "output_type": "stream",
     "text": [
      "male characters:\n",
      "                   sex  first_appearance  years_since\n",
      "name                                                 \n",
      "Spider-Man        male              1962           63\n",
      "Captain America   male              1941           84\n",
      "Wolverine         male              1974           51\n",
      "Iron Man          male              1963           62\n",
      "Thor              male              1963           62\n",
      "Thing             male              1961           64\n",
      "Mister Fantastic  male              1961           64\n",
      "Hulk              male              1962           63\n",
      "Beast             male              1963           62\n",
      "Hawkeye           male              1964           61\n",
      "Daredevil         male              1964           61\n",
      "Doctor Strange    male              1963           62\n",
      "Vision            male              1964           61\n"
     ]
    }
   ],
   "source": [
    "# your code goes here\n",
    "mask = marvel_df.sex == 'male'\n",
    "print(f\"male characters:\\n{marvel_df[mask]}\")"
   ]
  },
  {
   "cell_type": "markdown",
   "metadata": {},
   "source": [
    "![green-divider](https://user-images.githubusercontent.com/7065401/52071924-c003ad80-2562-11e9-8297-1c6595f8a7ff.png)\n",
    "\n",
    "### Given the `marvel_df` pandas DataFrame, get the characters with `first_appearance` after 1970\n"
   ]
  },
  {
   "cell_type": "code",
   "execution_count": null,
   "metadata": {},
   "outputs": [
    {
     "name": "stdout",
     "output_type": "stream",
     "text": [
      "male characters:\n",
      "              sex  first_appearance  years_since\n",
      "name                                            \n",
      "Wolverine    male              1974           51\n",
      "Storm      female              1975           50\n"
     ]
    }
   ],
   "source": [
    "# your code goes here\n",
    "mask = marvel_df.first_appearance > 1970 # por atributo directo\n",
    "mask = marvel_df['first_appearance'] > 1970\n",
    "print(f\"male characters:\\n{marvel_df[mask]}\")"
   ]
  },
  {
   "cell_type": "markdown",
   "metadata": {},
   "source": [
    "![green-divider](https://user-images.githubusercontent.com/7065401/52071924-c003ad80-2562-11e9-8297-1c6595f8a7ff.png)\n",
    "\n",
    "### Given the `marvel_df` pandas DataFrame, get the female characters with `first_appearance` after 1970"
   ]
  },
  {
   "cell_type": "code",
   "execution_count": 116,
   "metadata": {},
   "outputs": [
    {
     "name": "stdout",
     "output_type": "stream",
     "text": [
      "female characters with first appearance after 1970:\n",
      "          sex  first_appearance  years_since\n",
      "name                                        \n",
      "Storm  female              1975           50\n"
     ]
    }
   ],
   "source": [
    "# your code goes here\n",
    "mask = (marvel_df['first_appearance'] > 1970) & (marvel_df['sex'] == 'female') \n",
    "print(f\"female characters with first appearance after 1970:\\n{marvel_df[mask]}\")"
   ]
  },
  {
   "cell_type": "markdown",
   "metadata": {},
   "source": [
    "![purple-divider](https://user-images.githubusercontent.com/7065401/52071927-c1cd7100-2562-11e9-908a-dde91ba14e59.png)\n",
    "\n",
    "## DataFrame summary statistics"
   ]
  },
  {
   "cell_type": "markdown",
   "metadata": {},
   "source": [
    "### Show basic statistics of `marvel_df`"
   ]
  },
  {
   "cell_type": "code",
   "execution_count": 117,
   "metadata": {},
   "outputs": [
    {
     "name": "stdout",
     "output_type": "stream",
     "text": [
      "basic statistics of marvel_df:\n",
      "       first_appearance  years_since\n",
      "count         18.000000    18.000000\n",
      "mean        1962.888889    62.111111\n",
      "std            6.720372     6.720372\n",
      "min         1941.000000    50.000000\n",
      "25%         1962.000000    61.000000\n",
      "50%         1963.000000    62.000000\n",
      "75%         1964.000000    63.000000\n",
      "max         1975.000000    84.000000\n"
     ]
    }
   ],
   "source": [
    "# your code goes here\n",
    "print(f\"basic statistics of marvel_df:\\n{marvel_df.describe()}\")"
   ]
  },
  {
   "cell_type": "markdown",
   "metadata": {},
   "source": [
    "![green-divider](https://user-images.githubusercontent.com/7065401/52071924-c003ad80-2562-11e9-8297-1c6595f8a7ff.png)\n",
    "\n",
    "### Given the `marvel_df` pandas DataFrame, show the mean value of `first_appearance`"
   ]
  },
  {
   "cell_type": "code",
   "execution_count": 120,
   "metadata": {},
   "outputs": [
    {
     "name": "stdout",
     "output_type": "stream",
     "text": [
      "mean value of first_appearance (round):\n",
      "1962.89\n"
     ]
    }
   ],
   "source": [
    "# your code goes here\n",
    "print(f\"mean value of first_appearance (round):\\n{marvel_df.first_appearance.mean().__round__(2)}\")"
   ]
  },
  {
   "cell_type": "markdown",
   "metadata": {},
   "source": [
    "![green-divider](https://user-images.githubusercontent.com/7065401/52071924-c003ad80-2562-11e9-8297-1c6595f8a7ff.png)\n",
    "\n",
    "### Given the `marvel_df` pandas DataFrame, show the min value of `first_appearance`\n"
   ]
  },
  {
   "cell_type": "code",
   "execution_count": 122,
   "metadata": {},
   "outputs": [
    {
     "name": "stdout",
     "output_type": "stream",
     "text": [
      "min value of first_appearance (round):\n",
      "1941\n"
     ]
    }
   ],
   "source": [
    "# your code goes here\n",
    "print(f\"min value of first_appearance (round):\\n{marvel_df.first_appearance.min()}\")"
   ]
  },
  {
   "cell_type": "markdown",
   "metadata": {},
   "source": [
    "![green-divider](https://user-images.githubusercontent.com/7065401/52071924-c003ad80-2562-11e9-8297-1c6595f8a7ff.png)\n",
    "\n",
    "### Given the `marvel_df` pandas DataFrame, get the characters with the min value of `first_appearance`"
   ]
  },
  {
   "cell_type": "code",
   "execution_count": 127,
   "metadata": {},
   "outputs": [
    {
     "name": "stdout",
     "output_type": "stream",
     "text": [
      "characters with the min value of first_appearance:\n",
      "                  sex  first_appearance  years_since\n",
      "name                                                \n",
      "Captain America  male              1941           84\n"
     ]
    }
   ],
   "source": [
    "# your code goes here\n",
    "mask = marvel_df['first_appearance'] == marvel_df.first_appearance.min()\n",
    "print(f\"characters with the min value of first_appearance:\\n{marvel_df[mask]}\")"
   ]
  },
  {
   "cell_type": "markdown",
   "metadata": {},
   "source": [
    "![purple-divider](https://user-images.githubusercontent.com/7065401/52071927-c1cd7100-2562-11e9-908a-dde91ba14e59.png)\n",
    "\n",
    "## DataFrame basic plottings"
   ]
  },
  {
   "cell_type": "markdown",
   "metadata": {},
   "source": [
    "### Reset index names of `marvel_df`\n"
   ]
  },
  {
   "cell_type": "code",
   "execution_count": 128,
   "metadata": {},
   "outputs": [
    {
     "name": "stdout",
     "output_type": "stream",
     "text": [
      "reset index:\n",
      "                name     sex  first_appearance  years_since\n",
      "0         Spider-Man    male              1962           63\n",
      "1    Captain America    male              1941           84\n",
      "2          Wolverine    male              1974           51\n",
      "3           Iron Man    male              1963           62\n",
      "4               Thor    male              1963           62\n",
      "5              Thing    male              1961           64\n",
      "6   Mister Fantastic    male              1961           64\n",
      "7               Hulk    male              1962           63\n",
      "8              Beast    male              1963           62\n",
      "9    Invisible Woman  female              1961           64\n",
      "10             Storm  female              1975           50\n",
      "11           Hawkeye    male              1964           61\n",
      "12         Daredevil    male              1964           61\n",
      "13    Doctor Strange    male              1963           62\n",
      "14     Scarlet Witch  female              1964           61\n",
      "15              Wasp  female              1963           62\n",
      "16       Black Widow  female              1964           61\n",
      "17            Vision    male              1964           61\n"
     ]
    }
   ],
   "source": [
    "# your code goes here\n",
    "marvel_df = marvel_df.reset_index()\n",
    "print(f\"reset index:\\n{marvel_df}\")"
   ]
  },
  {
   "cell_type": "markdown",
   "metadata": {},
   "source": [
    "![green-divider](https://user-images.githubusercontent.com/7065401/52071924-c003ad80-2562-11e9-8297-1c6595f8a7ff.png)\n",
    "\n",
    "### Plot the values of `first_appearance`\n"
   ]
  },
  {
   "cell_type": "code",
   "execution_count": 163,
   "metadata": {},
   "outputs": [
    {
     "name": "stdout",
     "output_type": "stream",
     "text": [
      "Basic plot\n"
     ]
    },
    {
     "data": {
      "text/plain": [
       "<Axes: title={'center': 'first appearance of characters (1941)'}>"
      ]
     },
     "execution_count": 163,
     "metadata": {},
     "output_type": "execute_result"
    },
    {
     "data": {
      "image/png": "[encoded data removed]",
      "text/plain": [
       "<Figure size 640x480 with 1 Axes>"
      ]
     },
     "metadata": {},
     "output_type": "display_data"
    }
   ],
   "source": [
    "# your code goes here\n",
    "print(\"Basic plot\")\n",
    "marvel_df['first_appearance'].plot(legend=True, kind='line',use_index=True,title=f\"first appearance of characters ({marvel_df['first_appearance'].min()})\")"
   ]
  },
  {
   "cell_type": "code",
   "execution_count": null,
   "metadata": {
    "cell_type": "solution"
   },
   "outputs": [
    {
     "name": "stdout",
     "output_type": "stream",
     "text": [
      "Personalized plot\n"
     ]
    },
    {
     "data": {
      "image/png": "[encoded data removed]",
      "text/plain": [
       "<Figure size 1000x500 with 1 Axes>"
      ]
     },
     "metadata": {},
     "output_type": "display_data"
    }
   ],
   "source": [
    "print(\"Personalized plot\")\n",
    "# Configurar el gráfico\n",
    "ax = marvel_df['first_appearance'].plot(\n",
    "    kind='line',\n",
    "    legend=True,\n",
    "    use_index=False,       # Use the index as the X axis\n",
    "    title=f\"First Appearance of Characters (since {marvel_df['first_appearance'].min()})\",\n",
    "    figsize=(10, 5),      # (width, height)\n",
    "    grid=True,            # Show grid\n",
    "    marker='o',           # Markers examples: ('o','x','v','<','>','.')\n",
    "    linestyle='-',\n",
    "    color='blue'          # Line color\n",
    ")\n",
    "ax.set_xlabel(\"Number of appearances\")\n",
    "ax.set_ylabel(\"Year of First Appearance\")\n",
    "# Rotate X-axis labels if long (optional)\n",
    "plt.xticks(rotation=45)\n",
    "plt.tight_layout()\n",
    "plt.show()"
   ]
  },
  {
   "cell_type": "markdown",
   "metadata": {},
   "source": [
    "![green-divider](https://user-images.githubusercontent.com/7065401/52071924-c003ad80-2562-11e9-8297-1c6595f8a7ff.png)\n",
    "\n",
    "### Plot a histogram (plot.hist) with values of `first_appearance`\n"
   ]
  },
  {
   "cell_type": "code",
   "execution_count": 175,
   "metadata": {
    "cell_type": "solution"
   },
   "outputs": [
    {
     "name": "stdout",
     "output_type": "stream",
     "text": [
      "Basic plot\n"
     ]
    },
    {
     "data": {
      "text/plain": [
       "(array([ 1.,  0.,  0.,  0.,  0.,  3., 12.,  0.,  0.,  2.]),\n",
       " array([1941. , 1944.4, 1947.8, 1951.2, 1954.6, 1958. , 1961.4, 1964.8,\n",
       "        1968.2, 1971.6, 1975. ]),\n",
       " <BarContainer object of 10 artists>)"
      ]
     },
     "execution_count": 175,
     "metadata": {},
     "output_type": "execute_result"
    },
    {
     "data": {
      "image/png": "[encoded data removed]",
      "text/plain": [
       "<Figure size 640x480 with 1 Axes>"
      ]
     },
     "metadata": {},
     "output_type": "display_data"
    }
   ],
   "source": [
    "print(\"Basic plot\")\n",
    "plt.hist(marvel_df.first_appearance)"
   ]
  },
  {
   "cell_type": "code",
   "execution_count": null,
   "metadata": {},
   "outputs": [
    {
     "data": {
      "image/png": "[encoded data removed]",
      "text/plain": [
       "<Figure size 1000x500 with 1 Axes>"
      ]
     },
     "metadata": {},
     "output_type": "display_data"
    }
   ],
   "source": [
    "# your code goes here\n",
    "ax = marvel_df['first_appearance'].plot(\n",
    "    kind='hist',\n",
    "    legend=True,\n",
    "    use_index=False,       # Use the index as the X axis\n",
    "    title=f\"First Appearance of Characters (since {marvel_df['first_appearance'].min()})\",\n",
    "    figsize=(10, 5),      # (width, height)\n",
    "    grid=False,            # Show grid\n",
    "    linestyle='-',\n",
    "    color='blue'          # Line color\n",
    ")\n",
    "ax.set_xlabel(\"Year of First Appearance \")\n",
    "ax.set_ylabel(\"Number of appearances\")\n",
    "# Rotate X-axis labels if long (optional)\n",
    "plt.xticks(rotation=45)\n",
    "plt.tight_layout()\n",
    "plt.show()"
   ]
  },
  {
   "cell_type": "markdown",
   "metadata": {},
   "source": [
    "![purple-divider](https://user-images.githubusercontent.com/7065401/52071927-c1cd7100-2562-11e9-908a-dde91ba14e59.png)\n"
   ]
  },
  {
   "cell_type": "code",
   "execution_count": null,
   "metadata": {},
   "outputs": [
    {
     "name": "stdout",
     "output_type": "stream",
     "text": [
      "a:\n",
      "[[ 1  2  3  4  5]\n",
      " [ 6  7  8  9 10]]\n",
      "a:\n",
      "[[ 1  2 20  4  5]\n",
      " [ 6  7 20  9 10]]\n"
     ]
    }
   ],
   "source": [
    "\n",
    "a = np.array([[1, 2, 3, 4, 5], [6, 7, 8, 9, 10]])\n",
    "print(f\"a:\\n{a}\")\n",
    "a[:,2] = 20\n",
    "print(f\"a:\\n{a}\")"
   ]
  },
  {
   "cell_type": "code",
   "execution_count": 222,
   "metadata": {},
   "outputs": [],
   "source": [
    "input_list = [0,1,2,3,4,5,6,7,8]"
   ]
  },
  {
   "cell_type": "code",
   "execution_count": 239,
   "metadata": {},
   "outputs": [
    {
     "name": "stdout",
     "output_type": "stream",
     "text": [
      "reshape[[0 1 2]\n",
      " [3 4 5]\n",
      " [6 7 8]]\n",
      "[0 1 2 3 4 5 6 7 8]\n",
      "mean:[array([3., 4., 5.]), array([1., 4., 7.]), np.float64(4.0)]\n",
      "variance:[array([6., 6., 6.]), array([0.66666667, 0.66666667, 0.66666667]), np.float64(6.666666666666667)]\n",
      "standard deviation:[array([2.44948974, 2.44948974, 2.44948974]), array([0.81649658, 0.81649658, 0.81649658]), np.float64(2.581988897471611)]\n",
      "max:[array([6, 7, 8]), array([2, 5, 8]), np.int64(8)]\n",
      "min:[array([0, 1, 2]), array([0, 3, 6]), np.int64(0)]\n",
      "sum:[array([ 9, 12, 15]), array([ 3, 12, 21]), np.int64(36)]\n"
     ]
    }
   ],
   "source": [
    "matrix = np.array(input_list).reshape(3,3)\n",
    "print(f\"reshape{matrix}\")\n",
    "flattened_matrix = matrix.flatten()\n",
    "print(flattened_matrix)\n",
    "\n",
    "    # result = {\n",
    "    #     'mean': [axis1, axis2, flattened],\n",
    "    #     'variance': [axis1, axis2, flattened],\n",
    "    #     'standard deviation': [axis1, axis2, flattened],\n",
    "    #     'max': [axis1, axis2, flattened],\n",
    "    #     'min': [axis1, axis2, flattened],\n",
    "    #     'sum': [axis1, axis2, flattened]\n",
    "    # }\n",
    "calculations = {\n",
    "    'mean': [matrix.mean(axis=0,dtype=float),matrix.mean(axis=1,dtype=float),np.mean(flattened_matrix,dtype=float)],\n",
    "    'variance': [matrix.var(axis=0, dtype=float), matrix.var(axis=1, dtype=float), flattened_matrix.var(dtype=float)],\n",
    "    'standard deviation': [matrix.std(axis=0, dtype=float), matrix.std(axis=1, dtype=float), flattened_matrix.std(dtype=float)],\n",
    "    'max': [matrix.max(axis=0), matrix.max(axis=1), flattened_matrix.max()],\n",
    "    'min': [matrix.min(axis=0), matrix.min(axis=1), flattened_matrix.min()],\n",
    "    'sum': [matrix.sum(axis=0), matrix.sum(axis=1), flattened_matrix.sum()],\n",
    "}\n",
    "for index, calculation in calculations.items():\n",
    "    print(f\"{index}:{calculation}\")\n",
    "# print(f\"calculations:\\n{calculations}\")"
   ]
  }
 ],
 "metadata": {
  "kernelspec": {
   "display_name": "env",
   "language": "python",
   "name": "python3"
  },
  "language_info": {
   "codemirror_mode": {
    "name": "ipython",
    "version": 3
   },
   "file_extension": ".py",
   "mimetype": "text/x-python",
   "name": "python",
   "nbconvert_exporter": "python",
   "pygments_lexer": "ipython3",
   "version": "3.11.9"
  }
 },
 "nbformat": 4,
 "nbformat_minor": 4
}
