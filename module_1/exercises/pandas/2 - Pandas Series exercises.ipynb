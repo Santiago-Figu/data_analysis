{
 "cells": [
  {
   "cell_type": "markdown",
   "metadata": {},
   "source": [
    "![rmotr](https://user-images.githubusercontent.com/7065401/52071918-bda15380-2562-11e9-828c-7f95297e4a82.png)\n",
    "<hr style=\"margin-bottom: 40px;\">\n",
    "\n",
    "# Pandas Series exercises\n"
   ]
  },
  {
   "cell_type": "code",
   "execution_count": 1,
   "metadata": {},
   "outputs": [
    {
     "name": "stdout",
     "output_type": "stream",
     "text": [
      "2.2.3\n"
     ]
    }
   ],
   "source": [
    "# Import the numpy package under the name np\n",
    "import numpy as np\n",
    "\n",
    "# Import the pandas package under the name pd\n",
    "import pandas as pd\n",
    "\n",
    "# Print the pandas version and the configuration\n",
    "print(pd.__version__)"
   ]
  },
  {
   "cell_type": "markdown",
   "metadata": {},
   "source": [
    "![purple-divider](https://user-images.githubusercontent.com/7065401/52071927-c1cd7100-2562-11e9-908a-dde91ba14e59.png)\n",
    "\n",
    "## Series creation"
   ]
  },
  {
   "cell_type": "markdown",
   "metadata": {},
   "source": [
    "### Create an empty pandas Series"
   ]
  },
  {
   "cell_type": "code",
   "execution_count": 3,
   "metadata": {},
   "outputs": [
    {
     "name": "stdout",
     "output_type": "stream",
     "text": [
      "empty: Series([], dtype: object)\n"
     ]
    }
   ],
   "source": [
    "# your code goes here\n",
    "x = pd.Series()\n",
    "print(f\"empty: {x}\")"
   ]
  },
  {
   "cell_type": "markdown",
   "metadata": {},
   "source": [
    "![green-divider](https://user-images.githubusercontent.com/7065401/52071924-c003ad80-2562-11e9-8297-1c6595f8a7ff.png)\n",
    "\n",
    "### Given the X python list convert it to an Y pandas Series"
   ]
  },
  {
   "cell_type": "code",
   "execution_count": 8,
   "metadata": {},
   "outputs": [
    {
     "name": "stdout",
     "output_type": "stream",
     "text": [
      "[10, 72, 63, 24, 25, 67] <class 'list'>\n",
      "--------------------\n",
      "0    10\n",
      "1    72\n",
      "2    63\n",
      "3    24\n",
      "4    25\n",
      "5    67\n",
      "dtype: int64 <class 'pandas.core.series.Series'>\n"
     ]
    }
   ],
   "source": [
    "# your code goes here\n",
    "x = [10,72,63,24,25,67]\n",
    "print(f\"{x} {type(x)}\")\n",
    "y =  pd.Series(x)\n",
    "print(\"--------------------\")\n",
    "print(f\"{y} {type(y)}\")"
   ]
  },
  {
   "cell_type": "markdown",
   "metadata": {},
   "source": [
    "![green-divider](https://user-images.githubusercontent.com/7065401/52071924-c003ad80-2562-11e9-8297-1c6595f8a7ff.png)\n",
    "\n",
    "### Given the X pandas Series, name it 'My letters'"
   ]
  },
  {
   "cell_type": "code",
   "execution_count": 10,
   "metadata": {},
   "outputs": [
    {
     "name": "stdout",
     "output_type": "stream",
     "text": [
      "0    A\n",
      "1    B\n",
      "2    C\n",
      "Name: My letters, dtype: object\n"
     ]
    }
   ],
   "source": [
    "# your code goes here\n",
    "x = pd.Series(['A','B','C'])\n",
    "x.name='My letters'\n",
    "print(f\"{x}\")"
   ]
  },
  {
   "cell_type": "markdown",
   "metadata": {},
   "source": [
    "![green-divider](https://user-images.githubusercontent.com/7065401/52071924-c003ad80-2562-11e9-8297-1c6595f8a7ff.png)\n",
    "\n",
    "### Given the X pandas Series, show its values\n"
   ]
  },
  {
   "cell_type": "code",
   "execution_count": 11,
   "metadata": {},
   "outputs": [
    {
     "name": "stdout",
     "output_type": "stream",
     "text": [
      "Values: ['A' 'B' 'C']\n"
     ]
    }
   ],
   "source": [
    "# your code goes here\n",
    "x = pd.Series(['A','B','C'])\n",
    "x.name='My letters'\n",
    "print(f\"Values: {x.values}\")"
   ]
  },
  {
   "cell_type": "markdown",
   "metadata": {},
   "source": [
    "![purple-divider](https://user-images.githubusercontent.com/7065401/52071927-c1cd7100-2562-11e9-908a-dde91ba14e59.png)\n",
    "\n",
    "## Series indexation"
   ]
  },
  {
   "cell_type": "markdown",
   "metadata": {},
   "source": [
    "### Assign index names to the given X pandas Series\n"
   ]
  },
  {
   "cell_type": "code",
   "execution_count": 18,
   "metadata": {},
   "outputs": [
    {
     "name": "stdout",
     "output_type": "stream",
     "text": [
      "pandas series:\n",
      "letter1    A\n",
      "letter2    B\n",
      "letter3    C\n",
      "Name: My letters, dtype: object\n"
     ]
    }
   ],
   "source": [
    "# your code goes here\n",
    "x = pd.Series(['A','B','C'])\n",
    "x.name='My letters'\n",
    "x.index=[\"letter1\",\"letter2\",\"letter3\"]\n",
    "print(f\"pandas series:\\n{x}\")"
   ]
  },
  {
   "cell_type": "markdown",
   "metadata": {},
   "source": [
    "![green-divider](https://user-images.githubusercontent.com/7065401/52071924-c003ad80-2562-11e9-8297-1c6595f8a7ff.png)\n",
    "\n",
    "### Given the X pandas Series, show its first element\n"
   ]
  },
  {
   "cell_type": "code",
   "execution_count": 33,
   "metadata": {},
   "outputs": [
    {
     "name": "stdout",
     "output_type": "stream",
     "text": [
      "by label: A\n",
      "by index-label: A\n",
      "by position (integer-based): A\n",
      "by direct position (may cause ambiguity problems with index-label): A\n"
     ]
    },
    {
     "name": "stderr",
     "output_type": "stream",
     "text": [
      "C:\\Users\\OUTBR\\AppData\\Local\\Temp\\ipykernel_16100\\3635635160.py:6: FutureWarning: Series.__getitem__ treating keys as positions is deprecated. In a future version, integer keys will always be treated as labels (consistent with DataFrame behavior). To access a value by position, use `ser.iloc[pos]`\n",
      "  print(f\"by direct position (may cause ambiguity problems with index-label): {x[0]}\")\n"
     ]
    }
   ],
   "source": [
    "# your code goes here\n",
    "x = pd.Series(['A','B','C'], index=['first', 'second', 'third'])\n",
    "print(f\"by label: {x.loc['first']}\")\n",
    "print(f\"by index-label: {x['first']}\")\n",
    "print(f\"by position (integer-based): {x.iloc[0]}\")\n",
    "print(f\"by direct position (may cause ambiguity problems with index-label): {x[0]}\")"
   ]
  },
  {
   "cell_type": "markdown",
   "metadata": {},
   "source": [
    "![green-divider](https://user-images.githubusercontent.com/7065401/52071924-c003ad80-2562-11e9-8297-1c6595f8a7ff.png)\n",
    "\n",
    "### Given the X pandas Series, show its last element\n"
   ]
  },
  {
   "cell_type": "code",
   "execution_count": 34,
   "metadata": {},
   "outputs": [
    {
     "name": "stdout",
     "output_type": "stream",
     "text": [
      "by label: C\n",
      "by index-label: C\n",
      "by position (integer-based): C\n",
      "by direct position (may cause ambiguity problems with index-label): C\n"
     ]
    },
    {
     "name": "stderr",
     "output_type": "stream",
     "text": [
      "C:\\Users\\OUTBR\\AppData\\Local\\Temp\\ipykernel_16100\\944604260.py:6: FutureWarning: Series.__getitem__ treating keys as positions is deprecated. In a future version, integer keys will always be treated as labels (consistent with DataFrame behavior). To access a value by position, use `ser.iloc[pos]`\n",
      "  print(f\"by direct position (may cause ambiguity problems with index-label): {x[-1]}\")\n"
     ]
    }
   ],
   "source": [
    "# your code goes here\n",
    "x = pd.Series(['A','B','C'], index=['first', 'second', 'third'])\n",
    "print(f\"by label: {x.loc['third']}\")\n",
    "print(f\"by index-label: {x['third']}\")\n",
    "print(f\"by position (integer-based): {x.iloc[-1]}\")\n",
    "print(f\"by direct position (may cause ambiguity problems with index-label): {x[-1]}\")"
   ]
  },
  {
   "cell_type": "markdown",
   "metadata": {},
   "source": [
    "![green-divider](https://user-images.githubusercontent.com/7065401/52071924-c003ad80-2562-11e9-8297-1c6595f8a7ff.png)\n",
    "\n",
    "### Given the X pandas Series, show all middle elements\n"
   ]
  },
  {
   "cell_type": "code",
   "execution_count": 44,
   "metadata": {},
   "outputs": [
    {
     "name": "stdout",
     "output_type": "stream",
     "text": [
      "by label:\n",
      "second    B\n",
      "third     C\n",
      "forth     D\n",
      "dtype: object\n",
      "\n",
      "by position (slice):\n",
      "second    B\n",
      "third     C\n",
      "forth     D\n",
      "dtype: object\n"
     ]
    }
   ],
   "source": [
    "# your code goes here\n",
    "x = pd.Series(['A','B','C','D','E'],index=['first','second','third','forth','fifth'])\n",
    "print(f\"by label:\\n{x.loc['second':'forth']}\\n\")\n",
    "print(f\"by position (slice):\\n{x.iloc[1:-1]}\")"
   ]
  },
  {
   "cell_type": "markdown",
   "metadata": {},
   "source": [
    "![green-divider](https://user-images.githubusercontent.com/7065401/52071924-c003ad80-2562-11e9-8297-1c6595f8a7ff.png)\n",
    "\n",
    "### Given the X pandas Series, show the elements in reverse position\n"
   ]
  },
  {
   "cell_type": "code",
   "execution_count": 47,
   "metadata": {},
   "outputs": [
    {
     "name": "stdout",
     "output_type": "stream",
     "text": [
      "by position (slice):\n",
      "fifth     E\n",
      "forth     D\n",
      "third     C\n",
      "second    B\n",
      "first     A\n",
      "dtype: object\n"
     ]
    }
   ],
   "source": [
    "# your code goes here\n",
    "x = pd.Series(['A','B','C','D','E'],index=['first','second','third','forth','fifth'])\n",
    "print(f\"by position (slice):\\n{x.iloc[::-1]}\")"
   ]
  },
  {
   "cell_type": "markdown",
   "metadata": {},
   "source": [
    "![green-divider](https://user-images.githubusercontent.com/7065401/52071924-c003ad80-2562-11e9-8297-1c6595f8a7ff.png)\n",
    "\n",
    "### Given the X pandas Series, show the first and last elements\n"
   ]
  },
  {
   "cell_type": "code",
   "execution_count": 56,
   "metadata": {},
   "outputs": [
    {
     "name": "stdout",
     "output_type": "stream",
     "text": [
      "by position:\n",
      "first    A\n",
      "fifth    E\n",
      "dtype: object\n",
      "\n",
      "by label:\n",
      "first    A\n",
      "fifth    E\n",
      "dtype: object\n",
      "\n"
     ]
    }
   ],
   "source": [
    "# your code goes here\n",
    "x = pd.Series(['A','B','C','D','E'],index=['first','second','third','forth','fifth'])\n",
    "print(f\"by position:\\n{x.iloc[[0,-1]]}\\n\")\n",
    "print(f\"by label:\\n{x.loc[['first','fifth']]}\\n\")"
   ]
  },
  {
   "cell_type": "markdown",
   "metadata": {},
   "source": [
    "![purple-divider](https://user-images.githubusercontent.com/7065401/52071927-c1cd7100-2562-11e9-908a-dde91ba14e59.png)\n",
    "\n",
    "## Series manipulation"
   ]
  },
  {
   "cell_type": "markdown",
   "metadata": {},
   "source": [
    "### Convert the given integer pandas Series to float\n"
   ]
  },
  {
   "cell_type": "code",
   "execution_count": 60,
   "metadata": {},
   "outputs": [
    {
     "name": "stdout",
     "output_type": "stream",
     "text": [
      "int:\n",
      "first     1\n",
      "second    2\n",
      "third     3\n",
      "forth     4\n",
      "fifth     5\n",
      "dtype: int64\n",
      "\n",
      "float:\n",
      "first     1.0\n",
      "second    2.0\n",
      "third     3.0\n",
      "forth     4.0\n",
      "fifth     5.0\n",
      "dtype: float64\n"
     ]
    }
   ],
   "source": [
    "# your code goes here\n",
    "x = pd.Series([1,2,3,4,5], index=['first','second','third','forth','fifth'])\n",
    "print(f\"int:\\n{x}\\n\")\n",
    "y = pd.Series(x,dtype=float)\n",
    "print(f\"float:\\n{y}\")"
   ]
  },
  {
   "cell_type": "markdown",
   "metadata": {},
   "source": [
    "![green-divider](https://user-images.githubusercontent.com/7065401/52071924-c003ad80-2562-11e9-8297-1c6595f8a7ff.png)\n",
    "\n",
    "### Reverse the given pandas Series (first element becomes last)"
   ]
  },
  {
   "cell_type": "code",
   "execution_count": 64,
   "metadata": {},
   "outputs": [
    {
     "name": "stdout",
     "output_type": "stream",
     "text": [
      "normal:\n",
      "first     1\n",
      "second    2\n",
      "third     3\n",
      "forth     4\n",
      "fifth     5\n",
      "dtype: int64\n",
      "\n",
      "reverse by position (slice):\n",
      "fifth     5\n",
      "forth     4\n",
      "third     3\n",
      "second    2\n",
      "first     1\n",
      "dtype: int64\n",
      "\n"
     ]
    }
   ],
   "source": [
    "# your code goes here\n",
    "x = pd.Series([1,2,3,4,5],index=['first','second','third','forth','fifth'])\n",
    "print(f\"normal:\\n{x}\\n\")\n",
    "print(f\"reverse by position (slice):\\n{x.iloc[::-1]}\\n\")"
   ]
  },
  {
   "cell_type": "markdown",
   "metadata": {},
   "source": [
    "![green-divider](https://user-images.githubusercontent.com/7065401/52071924-c003ad80-2562-11e9-8297-1c6595f8a7ff.png)\n",
    "\n",
    "### Order (sort) the given pandas Series\n"
   ]
  },
  {
   "cell_type": "code",
   "execution_count": 72,
   "metadata": {},
   "outputs": [
    {
     "name": "stdout",
     "output_type": "stream",
     "text": [
      "normal:\n",
      "forth     4\n",
      "second    2\n",
      "fifth     5\n",
      "first     1\n",
      "third     3\n",
      "dtype: int64\n",
      "\n",
      "by values:\n",
      "first     1\n",
      "second    2\n",
      "third     3\n",
      "forth     4\n",
      "fifth     5\n",
      "dtype: int64\n",
      "\n",
      "by index:\n",
      "fifth     5\n",
      "first     1\n",
      "forth     4\n",
      "second    2\n",
      "third     3\n",
      "dtype: int64\n",
      "\n"
     ]
    }
   ],
   "source": [
    "# your code goes here\n",
    "x = pd.Series([4,2,5,1,3],index=['forth','second','fifth','first','third'])\n",
    "print(f\"normal:\\n{x}\\n\")\n",
    "print(f\"by values:\\n{x.sort_values(ignore_index=False)}\\n\")\n",
    "print(f\"by index:\\n{x.sort_index(ascending=True)}\\n\")"
   ]
  },
  {
   "cell_type": "markdown",
   "metadata": {},
   "source": [
    "![green-divider](https://user-images.githubusercontent.com/7065401/52071924-c003ad80-2562-11e9-8297-1c6595f8a7ff.png)\n",
    "\n",
    "### Given the X pandas Series, set the fifth element equal to 10\n"
   ]
  },
  {
   "cell_type": "code",
   "execution_count": null,
   "metadata": {},
   "outputs": [
    {
     "name": "stdout",
     "output_type": "stream",
     "text": [
      "normal:\n",
      "first     1\n",
      "second    2\n",
      "third     3\n",
      "forth     4\n",
      "fifth     5\n",
      "dtype: int64\n",
      "\n",
      "by label:\n",
      "first      1\n",
      "second     2\n",
      "third      3\n",
      "forth      4\n",
      "fifth     10\n",
      "dtype: int64\n",
      "\n",
      "by label:\n",
      "first      1\n",
      "second     2\n",
      "third      3\n",
      "forth      4\n",
      "fifth     10\n",
      "dtype: int64\n"
     ]
    }
   ],
   "source": [
    "# your code goes here\n",
    "x = pd.Series([1,2,3,4,5],index=['first','second','third','forth','fifth'])\n",
    "print(f\"normal:\\n{x}\")\n",
    "x.loc['fifth']=10\n",
    "print(f\"\\nby label:\\n{x}\")\n",
    "\n",
    "x.iloc[4]=10\n",
    "print(f\"\\nby index:\\n{x}\")"
   ]
  },
  {
   "cell_type": "markdown",
   "metadata": {},
   "source": [
    "![green-divider](https://user-images.githubusercontent.com/7065401/52071924-c003ad80-2562-11e9-8297-1c6595f8a7ff.png)\n",
    "\n",
    "### Given the X pandas Series, change all the middle elements to 0\n"
   ]
  },
  {
   "cell_type": "code",
   "execution_count": 81,
   "metadata": {},
   "outputs": [
    {
     "name": "stdout",
     "output_type": "stream",
     "text": [
      "normal:\n",
      "first     1\n",
      "second    2\n",
      "third     3\n",
      "forth     4\n",
      "fifth     5\n",
      "dtype: int64\n",
      "\n",
      "by label:\n",
      "first     1\n",
      "second    0\n",
      "third     0\n",
      "forth     0\n",
      "fifth     5\n",
      "dtype: int64\n",
      "\n",
      "by index(slice):\n",
      "first     1\n",
      "second    0\n",
      "third     0\n",
      "forth     0\n",
      "fifth     5\n",
      "dtype: int64\n"
     ]
    }
   ],
   "source": [
    "# your code goes here\n",
    "x = pd.Series([1,2,3,4,5],index=['first','second','third','forth','fifth'])\n",
    "print(f\"normal:\\n{x}\")\n",
    "x.loc['second':'forth']=0\n",
    "print(f\"\\nby label:\\n{x}\")\n",
    "\n",
    "x.iloc[1:-1]=0\n",
    "print(f\"\\nby index(slice):\\n{x}\")"
   ]
  },
  {
   "cell_type": "markdown",
   "metadata": {},
   "source": [
    "![green-divider](https://user-images.githubusercontent.com/7065401/52071924-c003ad80-2562-11e9-8297-1c6595f8a7ff.png)\n",
    "\n",
    "### Given the X pandas Series, add 5 to every element\n"
   ]
  },
  {
   "cell_type": "code",
   "execution_count": 84,
   "metadata": {},
   "outputs": [
    {
     "name": "stdout",
     "output_type": "stream",
     "text": [
      "normal:\n",
      "first     1\n",
      "second    2\n",
      "third     3\n",
      "forth     4\n",
      "fifth     5\n",
      "dtype: int64\n",
      "\n",
      "add 5:\n",
      "first      6\n",
      "second     7\n",
      "third      8\n",
      "forth      9\n",
      "fifth     10\n",
      "dtype: int64\n"
     ]
    }
   ],
   "source": [
    "# your code goes here\n",
    "x = pd.Series([1,2,3,4,5],index=['first','second','third','forth','fifth'])\n",
    "print(f\"normal:\\n{x}\")\n",
    "print(f\"\\nadd 5:\\n{x + 5}\")\n"
   ]
  },
  {
   "cell_type": "markdown",
   "metadata": {},
   "source": [
    "![purple-divider](https://user-images.githubusercontent.com/7065401/52071927-c1cd7100-2562-11e9-908a-dde91ba14e59.png)\n",
    "\n",
    "## Series boolean arrays (also called masks)"
   ]
  },
  {
   "cell_type": "markdown",
   "metadata": {},
   "source": [
    "### Given the X pandas Series, make a mask showing negative elements\n"
   ]
  },
  {
   "cell_type": "code",
   "execution_count": 91,
   "metadata": {},
   "outputs": [
    {
     "name": "stdout",
     "output_type": "stream",
     "text": [
      "normal:\n",
      "0    -1\n",
      "1     2\n",
      "2     0\n",
      "3    -4\n",
      "4     5\n",
      "5     6\n",
      "6     0\n",
      "7     0\n",
      "8    -9\n",
      "9    10\n",
      "dtype: int64\n",
      "\n",
      "mask:\n",
      "0     True\n",
      "1    False\n",
      "2    False\n",
      "3     True\n",
      "4    False\n",
      "5    False\n",
      "6    False\n",
      "7    False\n",
      "8     True\n",
      "9    False\n",
      "dtype: bool\n"
     ]
    }
   ],
   "source": [
    "# your code goes here\n",
    "x = pd.Series([-1,2,0,-4,5,6,0,0,-9,10])\n",
    "print(f\"normal:\\n{x}\")\n",
    "mask = x < 0\n",
    "print(f\"\\nmask:\\n{mask}\")"
   ]
  },
  {
   "cell_type": "markdown",
   "metadata": {},
   "source": [
    "![green-divider](https://user-images.githubusercontent.com/7065401/52071924-c003ad80-2562-11e9-8297-1c6595f8a7ff.png)\n",
    "\n",
    "### Given the X pandas Series, get the negative elements\n"
   ]
  },
  {
   "cell_type": "code",
   "execution_count": 96,
   "metadata": {},
   "outputs": [
    {
     "name": "stdout",
     "output_type": "stream",
     "text": [
      "\n",
      "negative elements:\n",
      "0   -1\n",
      "3   -4\n",
      "8   -9\n",
      "dtype: int64\n"
     ]
    }
   ],
   "source": [
    "# your code goes here\n",
    "x = pd.Series([-1,2,0,-4,5,6,0,0,-9,10])\n",
    "mask = x < 0\n",
    "print(f\"\\nnegative elements:\\n{x[mask]}\")"
   ]
  },
  {
   "cell_type": "markdown",
   "metadata": {},
   "source": [
    "![green-divider](https://user-images.githubusercontent.com/7065401/52071924-c003ad80-2562-11e9-8297-1c6595f8a7ff.png)\n",
    "\n",
    "### Given the X pandas Series, get numbers higher than 5\n"
   ]
  },
  {
   "cell_type": "code",
   "execution_count": 95,
   "metadata": {},
   "outputs": [
    {
     "name": "stdout",
     "output_type": "stream",
     "text": [
      "\n",
      "higher than 5 elements:\n",
      "5     6\n",
      "9    10\n",
      "dtype: int64\n"
     ]
    }
   ],
   "source": [
    "# your code goes here\n",
    "x = pd.Series([-1,2,0,-4,5,6,0,0,-9,10])\n",
    "mask = x > 5\n",
    "print(f\"\\nhigher than 5 elements:\\n{x[mask]}\")"
   ]
  },
  {
   "cell_type": "markdown",
   "metadata": {},
   "source": [
    "![green-divider](https://user-images.githubusercontent.com/7065401/52071924-c003ad80-2562-11e9-8297-1c6595f8a7ff.png)\n",
    "\n",
    "### Given the X pandas Series, get numbers higher than the elements mean"
   ]
  },
  {
   "cell_type": "code",
   "execution_count": 98,
   "metadata": {},
   "outputs": [
    {
     "name": "stdout",
     "output_type": "stream",
     "text": [
      "\n",
      "higher than mean (0.9) elements:\n",
      "1     2\n",
      "4     5\n",
      "5     6\n",
      "9    10\n",
      "dtype: int64\n"
     ]
    }
   ],
   "source": [
    "# your code goes here\n",
    "x = pd.Series([-1,2,0,-4,5,6,0,0,-9,10])\n",
    "mask = x > x.mean()\n",
    "print(f\"\\nhigher than mean ({x.mean()}) elements:\\n{x[mask]}\")"
   ]
  },
  {
   "cell_type": "markdown",
   "metadata": {},
   "source": [
    "![green-divider](https://user-images.githubusercontent.com/7065401/52071924-c003ad80-2562-11e9-8297-1c6595f8a7ff.png)\n",
    "\n",
    "### Given the X pandas Series, get numbers equal to 2 or 10\n"
   ]
  },
  {
   "cell_type": "code",
   "execution_count": 101,
   "metadata": {},
   "outputs": [
    {
     "name": "stdout",
     "output_type": "stream",
     "text": [
      "\n",
      "equal to 2 or 10 elements:\n",
      "1     2\n",
      "9    10\n",
      "dtype: int64\n"
     ]
    }
   ],
   "source": [
    "# your code goes here\n",
    "x = pd.Series([-1,2,0,-4,5,6,0,0,-9,10])\n",
    "mask = (x == 2) | (x == 10)\n",
    "print(f\"\\nequal to 2 or 10 elements:\\n{x[mask]}\")"
   ]
  },
  {
   "cell_type": "markdown",
   "metadata": {},
   "source": [
    "![purple-divider](https://user-images.githubusercontent.com/7065401/52071927-c1cd7100-2562-11e9-908a-dde91ba14e59.png)\n",
    "\n",
    "## Logic functions"
   ]
  },
  {
   "cell_type": "markdown",
   "metadata": {},
   "source": [
    "### Given the X pandas Series, return True if none of its elements is zero"
   ]
  },
  {
   "cell_type": "code",
   "execution_count": 120,
   "metadata": {},
   "outputs": [
    {
     "name": "stdout",
     "output_type": "stream",
     "text": [
      "by mask: False\n",
      "by numpy: False\n",
      "by mask(operator): False\n",
      "testing: True\n"
     ]
    }
   ],
   "source": [
    "# your code goes here\n",
    "x = pd.Series([-1,2,0,-4,5,6,0,0,-9,10])\n",
    "print(f\"by mask: {(x != 0).all()}\")\n",
    "print(f\"by numpy: {np.all(x != 0)}\")\n",
    "print(f\"by mask(operator): {~(x == 0).any()}\")\n",
    "x = x + 2\n",
    "print(f\"testing: {(x != 0).all()}\")"
   ]
  },
  {
   "cell_type": "markdown",
   "metadata": {},
   "source": [
    "![green-divider](https://user-images.githubusercontent.com/7065401/52071924-c003ad80-2562-11e9-8297-1c6595f8a7ff.png)\n",
    "\n",
    "### Given the X pandas Series, return True if any of its elements is zero\n"
   ]
  },
  {
   "cell_type": "code",
   "execution_count": 121,
   "metadata": {},
   "outputs": [
    {
     "name": "stdout",
     "output_type": "stream",
     "text": [
      "by mask: True\n",
      "by numpy: True\n",
      "testing: False\n"
     ]
    }
   ],
   "source": [
    "# your code goes here\n",
    "x = pd.Series([-1,2,0,-4,5,6,0,0,-9,10])\n",
    "print(f\"by mask: {(x == 0).any()}\")\n",
    "print(f\"by numpy: {np.any(x == 0)}\")\n",
    "x = x + 2\n",
    "print(f\"testing: {(x == 0).any()}\")"
   ]
  },
  {
   "cell_type": "markdown",
   "metadata": {},
   "source": [
    "![purple-divider](https://user-images.githubusercontent.com/7065401/52071927-c1cd7100-2562-11e9-908a-dde91ba14e59.png)\n",
    "\n",
    "## Summary statistics"
   ]
  },
  {
   "cell_type": "markdown",
   "metadata": {},
   "source": [
    "### Given the X pandas Series, show the sum of its elements\n"
   ]
  },
  {
   "cell_type": "code",
   "execution_count": 122,
   "metadata": {},
   "outputs": [
    {
     "name": "stdout",
     "output_type": "stream",
     "text": [
      "sum: 43\n"
     ]
    }
   ],
   "source": [
    "# your code goes here\n",
    "x = pd.Series([3,5,6,7,2,3,4,9,4])\n",
    "print(f\"sum: {x.sum()}\")"
   ]
  },
  {
   "cell_type": "markdown",
   "metadata": {},
   "source": [
    "![green-divider](https://user-images.githubusercontent.com/7065401/52071924-c003ad80-2562-11e9-8297-1c6595f8a7ff.png)\n",
    "\n",
    "### Given the X pandas Series, show the mean value of its elements"
   ]
  },
  {
   "cell_type": "code",
   "execution_count": 125,
   "metadata": {},
   "outputs": [
    {
     "name": "stdout",
     "output_type": "stream",
     "text": [
      "mean value: 3.7\n"
     ]
    }
   ],
   "source": [
    "# your code goes here\n",
    "x = pd.Series([1,2,0,4,5,6,0,0,9,10])\n",
    "print(f\"mean value: {x.mean().__round__(2)}\")"
   ]
  },
  {
   "cell_type": "markdown",
   "metadata": {},
   "source": [
    "![green-divider](https://user-images.githubusercontent.com/7065401/52071924-c003ad80-2562-11e9-8297-1c6595f8a7ff.png)\n",
    "\n",
    "### Given the X pandas Series, show the max value of its elements"
   ]
  },
  {
   "cell_type": "code",
   "execution_count": 126,
   "metadata": {},
   "outputs": [
    {
     "name": "stdout",
     "output_type": "stream",
     "text": [
      "max value: 10\n"
     ]
    }
   ],
   "source": [
    "# your code goes here\n",
    "x = pd.Series([1,2,0,4,5,6,0,0,9,10])\n",
    "print(f\"max value: {x.max()}\")"
   ]
  },
  {
   "cell_type": "markdown",
   "metadata": {},
   "source": [
    "![purple-divider](https://user-images.githubusercontent.com/7065401/52071927-c1cd7100-2562-11e9-908a-dde91ba14e59.png)"
   ]
  }
 ],
 "metadata": {
  "kernelspec": {
   "display_name": "env",
   "language": "python",
   "name": "python3"
  },
  "language_info": {
   "codemirror_mode": {
    "name": "ipython",
    "version": 3
   },
   "file_extension": ".py",
   "mimetype": "text/x-python",
   "name": "python",
   "nbconvert_exporter": "python",
   "pygments_lexer": "ipython3",
   "version": "3.11.9"
  }
 },
 "nbformat": 4,
 "nbformat_minor": 2
}
